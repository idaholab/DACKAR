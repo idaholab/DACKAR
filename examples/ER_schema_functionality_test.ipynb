{
 "cells": [
  {
   "cell_type": "markdown",
   "id": "bd41e798",
   "metadata": {},
   "source": [
    "## Emergent Activity Analysis Demo"
   ]
  },
  {
   "cell_type": "markdown",
   "id": "40e5fe7a",
   "metadata": {},
   "source": [
    "- Set up path and load modules "
   ]
  },
  {
   "cell_type": "code",
   "execution_count": null,
   "id": "2891ade9-9dc5-4f4e-9b04-76610a68def7",
   "metadata": {},
   "outputs": [],
   "source": [
    "import pandas as pd\n",
    "import os, sys\n",
    "import spacy\n",
    "from spacy import displacy\n",
    "\n",
    "cwd = os.getcwd()\n",
    "sys.path.append(os.path.join(cwd, os.pardir, 'src'))\n",
    "\n",
    "# Load DACKAR module\n",
    "from dackar.utils.tagKeywordListReader import entityLibrary\n",
    "from dackar.utils.nlp.nlp_utils import generatePatternList, resetPipeline\n",
    "from dackar.pipelines.GeneralEntity import GeneralEntity\n",
    "\n",
    "# Load language model\n",
    "nlp = spacy.load(\"en_core_web_lg\", exclude=[])\n"
   ]
  },
  {
   "cell_type": "markdown",
   "id": "f4fbe46a",
   "metadata": {},
   "source": [
    "- Load internal entity library about nuclear"
   ]
  },
  {
   "cell_type": "code",
   "execution_count": null,
   "id": "0aa6cbe2",
   "metadata": {},
   "outputs": [],
   "source": [
    "fileName = '../data/tag_keywords_lists.xlsx'\n",
    "lib = entityLibrary(fileName)\n",
    "library = lib.getLibrary()"
   ]
  },
  {
   "cell_type": "markdown",
   "id": "9ff4faf5",
   "metadata": {},
   "source": [
    "- Generate pattern list that can be used by NLP NER module"
   ]
  },
  {
   "cell_type": "code",
   "execution_count": null,
   "id": "6c267ccb",
   "metadata": {},
   "outputs": [],
   "source": [
    "patterns = []\n",
    "for lib in library.keys():\n",
    "  patternsEnts = generatePatternList(library[lib], label=lib, id='entity', nlp=nlp, attr=\"LEMMA\")\n",
    "  patterns = patterns + patternsEnts"
   ]
  },
  {
   "cell_type": "markdown",
   "id": "6800b46b",
   "metadata": {},
   "source": [
    "- Example for nuclear NER "
   ]
  },
  {
   "cell_type": "code",
   "execution_count": null,
   "id": "a8087128",
   "metadata": {},
   "outputs": [],
   "source": [
    "resetPipeline(nlp, [])\n",
    "\n",
    "rawText = \"CCW P1 shut down due to water in upper bearing (per SRE - WR # 921999), CD1E isolated and 45000-V43 closed, installed TCR # 23501 to raise vibration alarm setpoints\"\n",
    "doc = nlp(rawText)\n",
    "generalEntity = GeneralEntity(nlp, patterns)\n",
    "processedDoc = generalEntity(doc)\n",
    "\n",
    "if len(processedDoc.ents) > 0:\n",
    "    displacy.render(processedDoc, style='ent', jupyter=True)\n",
    "    displacy.render(processedDoc, style='dep', jupyter=True)\n",
    "for ent in processedDoc.ents:\n",
    "    print(\"Entity: \", ent.text, \"Alias: \", ent._.alias)"
   ]
  }
 ],
 "metadata": {
  "hide_input": false,
  "kernelspec": {
   "display_name": "dackar_libs",
   "language": "python",
   "name": "python3"
  },
  "language_info": {
   "codemirror_mode": {
    "name": "ipython",
    "version": 3
   },
   "file_extension": ".py",
   "mimetype": "text/x-python",
   "name": "python",
   "nbconvert_exporter": "python",
   "pygments_lexer": "ipython3",
   "version": "3.11.9"
  }
 },
 "nbformat": 4,
 "nbformat_minor": 5
}
