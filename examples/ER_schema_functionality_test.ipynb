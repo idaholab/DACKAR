{
 "cells": [
  {
   "cell_type": "code",
   "execution_count": null,
   "id": "2891ade9-9dc5-4f4e-9b04-76610a68def7",
   "metadata": {},
   "outputs": [],
   "source": [
    "import pandas as pd\n",
    "import os, sys\n",
    "\n",
    "cwd = os.getcwd()\n",
    "\n",
    "sys.path.append(os.path.join(cwd, os.pardir, 'src'))\n",
    "from others.tagKeywordListReader import entityLibrary\n",
    "\n",
    "\n",
    "from dackar.utils.nlp.nlp_utils import generatePatternList, resetPipeline\n",
    "from dackar.pipelines.GeneralEntity import GeneralEntity\n",
    "\n",
    "import spacy\n",
    "from spacy import displacy\n",
    "# Load language model\n",
    "nlp = spacy.load(\"en_core_web_lg\", exclude=[])\n"
   ]
  },
  {
   "cell_type": "code",
   "execution_count": 2,
   "id": "0aa6cbe2",
   "metadata": {},
   "outputs": [
    {
     "name": "stdout",
     "output_type": "stream",
     "text": [
      "Number of listed keywords: 16\n"
     ]
    }
   ],
   "source": [
    "fileName = '../../data/tag_keywords_lists.xlsx'\n",
    "lib = entityLibrary(fileName)\n",
    "library = lib.getLibrary()"
   ]
  },
  {
   "cell_type": "code",
   "execution_count": 3,
   "id": "6c267ccb",
   "metadata": {},
   "outputs": [],
   "source": [
    "patterns = []\n",
    "for lib in library.keys():\n",
    "  patternsEnts = generatePatternList(library[lib], label=lib, id='entity', nlp=nlp, attr=\"LEMMA\")\n",
    "  patterns = patterns + patternsEnts\n"
   ]
  },
  {
   "cell_type": "code",
   "execution_count": 4,
   "id": "a8087128",
   "metadata": {},
   "outputs": [
    {
     "ename": "NameError",
     "evalue": "name 'resetPipeline' is not defined",
     "output_type": "error",
     "traceback": [
      "\u001b[0;31m---------------------------------------------------------------------------\u001b[0m",
      "\u001b[0;31mNameError\u001b[0m                                 Traceback (most recent call last)",
      "Cell \u001b[0;32mIn[4], line 1\u001b[0m\n\u001b[0;32m----> 1\u001b[0m \u001b[43mresetPipeline\u001b[49m(nlp, pipelines)\n\u001b[1;32m      3\u001b[0m rawText \u001b[38;5;241m=\u001b[39m \u001b[38;5;124m\"\u001b[39m\u001b[38;5;124mCCW P1 shut down due to water in upper bearing (per SRE - WR # 921999), CD1E isolated and 45000-V43 closed, installed TCR # 23501 to raise vibration alarm setpoints\u001b[39m\u001b[38;5;124m\"\u001b[39m\n\u001b[1;32m      4\u001b[0m doc \u001b[38;5;241m=\u001b[39m nlp(rawText)\n",
      "\u001b[0;31mNameError\u001b[0m: name 'resetPipeline' is not defined"
     ]
    }
   ],
   "source": [
    "resetPipeline(nlp, pipelines)\n",
    "\n",
    "rawText = \"CCW P1 shut down due to water in upper bearing (per SRE - WR # 921999), CD1E isolated and 45000-V43 closed, installed TCR # 23501 to raise vibration alarm setpoints\"\n",
    "doc = nlp(rawText)\n",
    "generalEntity = GeneralEntity(nlp, patterns)\n",
    "processedDoc = generalEntity(doc)\n",
    "\n",
    "if len(processedDoc.ents) > 0:\n",
    "    displacy.render(processedDoc, style='ent', jupyter=True)\n",
    "    displacy.render(processedDoc, style='dep', jupyter=True)\n",
    "for ent in processedDoc.ents:\n",
    "    print(\"Entity: \", ent.text, \"Alias: \", ent._.alias)"
   ]
  },
  {
   "cell_type": "code",
   "execution_count": null,
   "id": "51d41b49",
   "metadata": {},
   "outputs": [],
   "source": []
  }
 ],
 "metadata": {
  "hide_input": false,
  "kernelspec": {
   "display_name": "Python 3",
   "language": "python",
   "name": "python3"
  },
  "language_info": {
   "codemirror_mode": {
    "name": "ipython",
    "version": 3
   },
   "file_extension": ".py",
   "mimetype": "text/x-python",
   "name": "python",
   "nbconvert_exporter": "python",
   "pygments_lexer": "ipython3",
   "version": "3.11.9"
  }
 },
 "nbformat": 4,
 "nbformat_minor": 5
}
