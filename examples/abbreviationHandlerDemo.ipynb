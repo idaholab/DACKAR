{
 "cells": [
  {
   "cell_type": "markdown",
   "id": "da6af3e4-c61e-4fe6-aa2e-88da8ba5e9ee",
   "metadata": {},
   "source": [
    "## Abbreviation Handler Demo \n",
    "\n",
    "Abbreviation classes are used to substitute abbreviations with full expansions, and there are two internal developed classes:\n",
    "\n",
    "- Abbreviation class: it is used to directly substitute the abbreviations with full expansions. Users can provide their own abbreviation dictionary.\n",
    "- AbbrExpander class: it utilizes a more sophisticated method, i.e., spell checking with word similarity search, to identify abbreviations and substitute them with full expansions."
   ]
  },
  {
   "cell_type": "markdown",
   "id": "bca19281",
   "metadata": {},
   "source": [
    "### AbbrExpander class"
   ]
  },
  {
   "cell_type": "code",
   "execution_count": null,
   "id": "a807aa3e",
   "metadata": {},
   "outputs": [],
   "source": [
    "import pandas as pd\n",
    "import os, sys\n",
    "import time\n",
    "\n",
    "cwd = os.getcwd()\n",
    "frameworkDir = os.path.abspath(os.path.join(cwd, os.pardir, 'src'))\n",
    "sys.path.append(frameworkDir)\n",
    "\n",
    "# Load AbbrExpander from DACKAR\n",
    "from dackar.text_processing.AbbrExpander import AbbrExpander\n"
   ]
  },
  {
   "cell_type": "code",
   "execution_count": null,
   "id": "4ae4ef84",
   "metadata": {},
   "outputs": [],
   "source": [
    "# Text example\n",
    "test = \"\"\"Perf ann sens calib of cyl.\n",
    "          High conc of hydrogen obs.\n",
    "          High conc of hydrogen obs every wk.\n",
    "          Prfr chann calib of chan.\n",
    "          esf pump room and fuel bldg test.\n",
    "          cal press xmtr sit elev.\n",
    "          perform thermography survey of pzr htr terminations.\n",
    "          plant mods comp iso mode prep.\n",
    "          drain & rmv pipe.\"\"\"\n",
    "test = test.lower()\n",
    "\n",
    "text = \"\"\"A leak was noticed from the pump.\n",
    "            RCP pump 1A pressure gauge was found not operating.\n",
    "            RCP pump 1A pressure gauge was found inoperative.\n",
    "            RCP pump 1A pressure gauge was not functional.\n",
    "            Rupture of pump bearings caused shaft degradation.\n",
    "            Rupture of pump bearings caused shaft degradation and consequent flow reduction.\n",
    "            Pump power supply has been found burnout.\n",
    "            Pump test failed due to power supply failure.\n",
    "            Pump inspection revealed excessive impeller degradation.\n",
    "            Pump inspection revealed excessive impeller degradation likely due to cavitation.\n",
    "            Oil puddle was found in proximity of RCP pump 1A.\n",
    "            Anomalous vibrations were observed for RCP pump 1A.\n",
    "            Several cracks on pump shaft were observed; they could have caused pump failure within few days.\n",
    "\"\"\"\n",
    "text = text.lower()\n"
   ]
  },
  {
   "cell_type": "code",
   "execution_count": null,
   "id": "2c919bef",
   "metadata": {},
   "outputs": [],
   "source": [
    "# import pre-generated abbreviation list\n",
    "filename = os.path.join(os.getcwd(), os.pardir, 'data', 'abbreviations.xlsx')\n",
    "abbrList = pd.read_excel(filename)\n",
    "abbrList.head()"
   ]
  },
  {
   "cell_type": "code",
   "execution_count": null,
   "id": "d604dba9",
   "metadata": {},
   "outputs": [],
   "source": [
    "# Utilize AbbrExpander to replace abbreviations\n",
    "AbbrExp = AbbrExpander(filename)\n",
    "cleanedTest = AbbrExp.abbrProcess(test, splitToList='True')\n",
    "print('Test:\\n', cleanedTest)\n",
    "\n",
    "cleanedText = AbbrExp.abbrProcess(text)\n",
    "print('Text:\\n', cleanedText)"
   ]
  },
  {
   "cell_type": "markdown",
   "id": "c6cfc8ae-fdb8-401b-9878-9077500bc496",
   "metadata": {},
   "source": [
    "### Abbreviation class "
   ]
  },
  {
   "cell_type": "code",
   "execution_count": null,
   "id": "42c5c1b3-f266-429a-8bc5-af960183f041",
   "metadata": {},
   "outputs": [],
   "source": [
    "# Load Abbreviation from DACKAR\n",
    "from dackar.text_processing.Abbreviation import Abbreviation\n",
    "\n",
    "abbreviation = Abbreviation()\n",
    "abbrDict = abbreviation.getAbbreviation()\n",
    "print(abbrDict)"
   ]
  },
  {
   "cell_type": "code",
   "execution_count": null,
   "id": "f49778a4-72c0-4cc3-9cd9-e18abbdc2332",
   "metadata": {},
   "outputs": [],
   "source": [
    "# Test\n",
    "cleanedTest = abbreviation.abbreviationSub(test)\n",
    "print(cleanedTest)"
   ]
  },
  {
   "cell_type": "code",
   "execution_count": null,
   "id": "0510678a-0710-49d1-94f5-cad5c7d6387a",
   "metadata": {},
   "outputs": [],
   "source": [
    "# Utilize user provided abbreviation dictionary\n",
    "abbrDict = {'perf':'perform', 'ann':'annual', 'sens':'sensor', 'calib':'calibration'}\n",
    "abbreviation.updateAbbreviation(abbrDict, reset=True)\n",
    "print(abbreviation.getAbbreviation())\n",
    "cleanedText = abbreviation.abbreviationSub(test)\n",
    "print(cleanedText)"
   ]
  }
 ],
 "metadata": {
  "kernelspec": {
   "display_name": "dackar_libs",
   "language": "python",
   "name": "python3"
  },
  "language_info": {
   "codemirror_mode": {
    "name": "ipython",
    "version": 3
   },
   "file_extension": ".py",
   "mimetype": "text/x-python",
   "name": "python",
   "nbconvert_exporter": "python",
   "pygments_lexer": "ipython3",
   "version": "3.11.9"
  }
 },
 "nbformat": 4,
 "nbformat_minor": 5
}
