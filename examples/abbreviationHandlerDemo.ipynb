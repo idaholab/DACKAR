{
 "cells": [
  {
   "cell_type": "code",
   "execution_count": 1,
   "id": "a807aa3e",
   "metadata": {},
   "outputs": [
    {
     "name": "stderr",
     "output_type": "stream",
     "text": [
      "/Users/wangc/miniconda3/envs/nlp_libs/lib/python3.9/site-packages/tqdm/auto.py:21: TqdmWarning: IProgress not found. Please update jupyter and ipywidgets. See https://ipywidgets.readthedocs.io/en/stable/user_install.html\n",
      "  from .autonotebook import tqdm as notebook_tqdm\n",
      "Warming up PyWSD (takes ~10 secs)... took 3.814470052719116 secs.\n"
     ]
    }
   ],
   "source": [
    "import numpy as np\n",
    "import pandas as pd\n",
    "import os, sys, time\n",
    "\n",
    "cwd = os.getcwd()\n",
    "frameworkDir = os.path.abspath(os.path.join(cwd, os.pardir, 'src'))\n",
    "sys.path.append(frameworkDir)\n",
    "\n",
    "from dackar.text_processing.Preprocessing import Preprocessing\n",
    "from dackar.text_processing.Preprocessing import SpellChecker\n",
    "from dackar.text_processing.Preprocessing import AbbrExpander"
   ]
  },
  {
   "cell_type": "code",
   "execution_count": 2,
   "id": "4ae4ef84",
   "metadata": {},
   "outputs": [],
   "source": [
    "test = \"\"\"Perf ann sens calib of cyl.\n",
    "          High conc of hydrogen obs.\n",
    "          High conc of hydrogen obs every wk.\n",
    "          Prfr chann calib of chan.\n",
    "          esf pump room and fuel bldg test.\n",
    "          cal press xmtr sit elev.\n",
    "          perform thermography survey of pzr htr terminations. \n",
    "          plant mods comp iso mode prep.\n",
    "          drain & rmv pipe.\"\"\"\n",
    "# pre-processing\n",
    "test = test.lower()"
   ]
  },
  {
   "cell_type": "code",
   "execution_count": 3,
   "id": "e9010b52-4c0b-40f5-9c86-a517e92c0726",
   "metadata": {},
   "outputs": [],
   "source": [
    "text = \"\"\"A leak was noticed from the pump.\n",
    "            RCP pump 1A pressure gauge was found not operating.\n",
    "            RCP pump 1A pressure gauge was found inoperative.\n",
    "            RCP pump 1A pressure gauge was not functional.\n",
    "            Rupture of pump bearings caused shaft degradation.\n",
    "            Rupture of pump bearings caused shaft degradation and consequent flow reduction.\n",
    "            Pump power supply has been found burnout.\n",
    "            Pump test failed due to power supply failure.\n",
    "            Pump inspection revealed excessive impeller degradation.\n",
    "            Pump inspection revealed excessive impeller degradation likely due to cavitation.\n",
    "            Oil puddle was found in proximity of RCP pump 1A.\n",
    "            Anomalous vibrations were observed for RCP pump 1A.\n",
    "            Several cracks on pump shaft were observed; they could have caused pump failure within few days.\n",
    "\"\"\"\n",
    "text = text.lower()"
   ]
  },
  {
   "cell_type": "code",
   "execution_count": 4,
   "id": "2c919bef",
   "metadata": {},
   "outputs": [
    {
     "name": "stdout",
     "output_type": "stream",
     "text": [
      "    Abbreviation     Full\n",
      "614          brg  bearing\n",
      "630         rplc  replace\n"
     ]
    }
   ],
   "source": [
    "# import abbreviation list\n",
    "abbrList = pd.read_excel('../data/abbreviations.xlsx') \n",
    "# Make sure the library does not contain duplicate rows\n",
    "print(abbrList[abbrList.duplicated()])"
   ]
  },
  {
   "cell_type": "code",
   "execution_count": 5,
   "id": "d604dba9",
   "metadata": {},
   "outputs": [
    {
     "name": "stdout",
     "output_type": "stream",
     "text": [
      "perform annual sensor calibration of cylinder. high concentration of hydrogen observe. high concentration of hydrogen observe every week. perform channel calibration of channel. esf pump room and fuel building test. calibration pressure transmitter sit elevation. perform thermography survey of pressurizer heater terminations. plant modifications composition iso mode preparation. drain & remove pipe. \n"
     ]
    }
   ],
   "source": [
    "filename = os.path.join(os.getcwd(), os.pardir, 'data', 'abbreviations.xlsx')\n",
    "AbbrExp = AbbrExpander(filename)\n",
    "cleanedText = AbbrExp.abbrProcess(test, splitToList='True')\n",
    "print(cleanedText)"
   ]
  },
  {
   "cell_type": "code",
   "execution_count": 6,
   "id": "7c6571a2-5927-4e1b-8d65-5fc7e70290f8",
   "metadata": {},
   "outputs": [],
   "source": [
    "from dackar.text_processing.Preprocessing import AbbrExpander\n",
    "import os\n",
    "import time\n",
    "\n",
    "filename = os.path.join(os.getcwd(), os.pardir, 'data', 'abbreviations.xlsx')\n",
    "AbbrExp = AbbrExpander(filename)"
   ]
  },
  {
   "cell_type": "code",
   "execution_count": 7,
   "id": "bcef7859-b292-49b2-bf95-c58eeb7d1120",
   "metadata": {},
   "outputs": [
    {
     "name": "stdout",
     "output_type": "stream",
     "text": [
      "Time elapse: 11.597131967544556\n"
     ]
    }
   ],
   "source": [
    "st = time.time()\n",
    "cleanedText = AbbrExp.abbrProcess(text)\n",
    "et = time.time()\n",
    "print('Time elapse:', et-st)"
   ]
  },
  {
   "cell_type": "code",
   "execution_count": 8,
   "id": "8d31d850-5328-43f5-9eb8-2c30a6548a91",
   "metadata": {},
   "outputs": [
    {
     "name": "stdout",
     "output_type": "stream",
     "text": [
      "Time elapse: 0.9696991443634033\n"
     ]
    }
   ],
   "source": [
    "textList = [t.strip() for t in text.split('\\n')]\n",
    "newList = []\n",
    "st = time.time()\n",
    "for t in textList:\n",
    "    cleanedT = AbbrExp.abbrProcess(t)\n",
    "    newList.append(cleanedT)\n",
    "et = time.time()\n",
    "print('Time elapse:', et-st)"
   ]
  },
  {
   "cell_type": "code",
   "execution_count": 9,
   "id": "852b9f03-178c-4664-aabd-9f58af0a7f64",
   "metadata": {},
   "outputs": [
    {
     "name": "stdout",
     "output_type": "stream",
     "text": [
      "1 leak was noticed from the pump. rcp pump 1a pressure gauge was found not operating. rcp pump 1a pressure gauge was found inoperative. rcp pump 1a pressure gauge was not functional. rupture of pump bearings caused shaft degradation. rupture of pump bearings caused shaft degradation and consequent flow reduction. pump power supply has been found burnout. pump test failed due to power supply failure. pump inspection revealed excessive impeller degradation. pump inspection revealed excessive impeller degradation likely due to cavitation. oil puddle was found in proximity of rcp pump 1a. anomalous vibrations were observed for rcp pump 1a. several cracks on pump shaft were observed; they could have caused pump failure within few days. \n",
      "Time elapse: 1.0938708782196045\n"
     ]
    }
   ],
   "source": [
    "st = time.time()\n",
    "cleanedText2 = AbbrExp.abbrProcess(text, splitToList='True')\n",
    "print(cleanedText2)\n",
    "et = time.time()\n",
    "print('Time elapse:', et-st)"
   ]
  },
  {
   "cell_type": "code",
   "execution_count": null,
   "id": "0eaa28cc",
   "metadata": {},
   "outputs": [],
   "source": []
  }
 ],
 "metadata": {
  "kernelspec": {
   "display_name": "Python 3",
   "language": "python",
   "name": "python3"
  },
  "language_info": {
   "codemirror_mode": {
    "name": "ipython",
    "version": 3
   },
   "file_extension": ".py",
   "mimetype": "text/x-python",
   "name": "python",
   "nbconvert_exporter": "python",
   "pygments_lexer": "ipython3",
   "version": "3.9.17"
  }
 },
 "nbformat": 4,
 "nbformat_minor": 5
}
