{
 "cells": [
  {
   "cell_type": "code",
   "execution_count": 1,
   "id": "f65246b3-e6f7-4726-bc90-cd92b5106722",
   "metadata": {},
   "outputs": [
    {
     "name": "stderr",
     "output_type": "stream",
     "text": [
      "Warming up PyWSD (takes ~10 secs)... took 4.378537178039551 secs.\n"
     ]
    }
   ],
   "source": [
    "%reload_ext autoreload\n",
    "%autoreload 2\n",
    "\n",
    "# Import libraries\n",
    "import numpy as np\n",
    "import pandas as pd \n",
    "import matplotlib.pyplot as plt\n",
    "from pylab import rcParams\n",
    "import json\n",
    "import os, sys\n",
    "import string\n",
    "import logging\n",
    "import re\n",
    "import copy\n",
    "import spacy\n",
    "import warnings\n",
    "from spacy import displacy\n",
    "warnings.filterwarnings(\"ignore\")\n",
    "\n",
    "cwd = os.getcwd()\n",
    "frameworkDir = os.path.abspath(os.path.join(cwd, os.pardir, 'src'))\n",
    "sys.path.append(frameworkDir)\n",
    "\n",
    "from dackar.workflows.WorkOrderProcessing import WorkOrderProcessing\n",
    "from dackar.utils.nlp.nlp_utils import generatePatternList\n",
    "from dackar.utils.opm.OPLparser import OPMobject\n",
    "\n",
    "\n",
    "logging.basicConfig(format='%(asctime)s %(name)-20s %(levelname)-8s %(message)s', datefmt='%d-%b-%y %H:%M:%S', level=logging.INFO)\n",
    "logging.getLogger().setLevel(logging.ERROR)"
   ]
  },
  {
   "cell_type": "code",
   "execution_count": 2,
   "id": "e31b504e-29da-4e48-a85c-80231436a200",
   "metadata": {},
   "outputs": [
    {
     "data": {
      "text/html": [
       "<span class=\"tex2jax_ignore\"><div class=\"entities\" style=\"line-height: 2.5; direction: ltr\">\n",
       "<mark class=\"entity\" style=\"background: #ddd; padding: 0.45em 0.6em; margin: 0 0.25em; line-height: 1; border-radius: 0.35em;\">\n",
       "    1-91120-P1\n",
       "    <span style=\"font-size: 0.8em; font-weight: bold; line-height: 1; border-radius: 0.35em; vertical-align: middle; margin-left: 0.5rem\">cws_component</span>\n",
       "</mark>\n",
       ", CLEAN PUMPHOUSE. \n",
       "<mark class=\"entity\" style=\"background: #ddd; padding: 0.45em 0.6em; margin: 0 0.25em; line-height: 1; border-radius: 0.35em;\">\n",
       "    1-91120-PM1\n",
       "    <span style=\"font-size: 0.8em; font-weight: bold; line-height: 1; border-radius: 0.35em; vertical-align: middle; margin-left: 0.5rem\">cws_component</span>\n",
       "</mark>\n",
       " REQUIRES OIL. \n",
       "<mark class=\"entity\" style=\"background: #ddd; padding: 0.45em 0.6em; margin: 0 0.25em; line-height: 1; border-radius: 0.35em;\">\n",
       "    91120\n",
       "    <span style=\"font-size: 0.8em; font-weight: bold; line-height: 1; border-radius: 0.35em; vertical-align: middle; margin-left: 0.5rem\">cws_component</span>\n",
       "</mark>\n",
       ", CLEAN TRASH RACKS</div></span>"
      ],
      "text/plain": [
       "<IPython.core.display.HTML object>"
      ]
     },
     "metadata": {},
     "output_type": "display_data"
    }
   ],
   "source": [
    "# Specify Entities Labels and IDs\n",
    "entLabel = \"cws_component\"        # user defined entity label\n",
    "entId = \"OPM\"  \n",
    "# Load language model\n",
    "nlp = spacy.load(\"en_core_web_lg\", exclude=[])\n",
    "matcher = WorkOrderProcessing(nlp, entID=entId)\n",
    "\n",
    "entIDList = ['1-91120-P1', '1-91120-PM1', '91120']\n",
    "patternsEnts = generatePatternList(entIDList, label=entLabel,    id=entId,    nlp=nlp, attr=\"LEMMA\")\n",
    "matcher.addEntityPattern('cws_entity_ruler', patternsEnts)\n",
    "\n",
    "text=\"1-91120-P1, CLEAN PUMPHOUSE. 1-91120-PM1 REQUIRES OIL. 91120, CLEAN TRASH RACKS\"\n",
    "\n",
    "doc = nlp(text)\n",
    "displacy.render(doc, style='ent', jupyter=True)"
   ]
  },
  {
   "cell_type": "code",
   "execution_count": 3,
   "id": "235673ea-9868-42ee-8e48-9f7d46e8c653",
   "metadata": {},
   "outputs": [
    {
     "data": {
      "text/html": [
       "<div>\n",
       "<style scoped>\n",
       "    .dataframe tbody tr th:only-of-type {\n",
       "        vertical-align: middle;\n",
       "    }\n",
       "\n",
       "    .dataframe tbody tr th {\n",
       "        vertical-align: top;\n",
       "    }\n",
       "\n",
       "    .dataframe thead th {\n",
       "        text-align: right;\n",
       "    }\n",
       "</style>\n",
       "<table border=\"1\" class=\"dataframe\">\n",
       "  <thead>\n",
       "    <tr style=\"text-align: right;\">\n",
       "      <th></th>\n",
       "      <th>entity</th>\n",
       "      <th>alias</th>\n",
       "      <th>entity_text</th>\n",
       "      <th>status</th>\n",
       "      <th>conjecture</th>\n",
       "      <th>negation</th>\n",
       "      <th>negation_text</th>\n",
       "    </tr>\n",
       "  </thead>\n",
       "  <tbody>\n",
       "    <tr>\n",
       "      <th>0</th>\n",
       "      <td>1-91120-P1</td>\n",
       "      <td>unit 1 pump</td>\n",
       "      <td>unit 1 pump</td>\n",
       "      <td>CLEAN PUMPHOUSE</td>\n",
       "      <td>False</td>\n",
       "      <td>False</td>\n",
       "      <td></td>\n",
       "    </tr>\n",
       "    <tr>\n",
       "      <th>1</th>\n",
       "      <td>1-91120-PM1</td>\n",
       "      <td>unit 1 pump motor</td>\n",
       "      <td>unit 1 pump motor</td>\n",
       "      <td>OIL</td>\n",
       "      <td>False</td>\n",
       "      <td>False</td>\n",
       "      <td></td>\n",
       "    </tr>\n",
       "    <tr>\n",
       "      <th>2</th>\n",
       "      <td>91120</td>\n",
       "      <td>pump</td>\n",
       "      <td>pump</td>\n",
       "      <td>CLEAN TRASH RACKS</td>\n",
       "      <td>False</td>\n",
       "      <td>False</td>\n",
       "      <td></td>\n",
       "    </tr>\n",
       "  </tbody>\n",
       "</table>\n",
       "</div>"
      ],
      "text/plain": [
       "        entity              alias        entity_text             status  \\\n",
       "0   1-91120-P1        unit 1 pump        unit 1 pump    CLEAN PUMPHOUSE   \n",
       "1  1-91120-PM1  unit 1 pump motor  unit 1 pump motor                OIL   \n",
       "2        91120               pump               pump  CLEAN TRASH RACKS   \n",
       "\n",
       "   conjecture  negation negation_text  \n",
       "0       False     False                \n",
       "1       False     False                \n",
       "2       False     False                "
      ]
     },
     "execution_count": 3,
     "metadata": {},
     "output_type": "execute_result"
    }
   ],
   "source": [
    "matcher.reset()\n",
    "sents = list(text.split('.'))\n",
    "for sent in sents:\n",
    "    matcher(sent)\n",
    "matcher._entStatus"
   ]
  },
  {
   "cell_type": "code",
   "execution_count": 4,
   "id": "a8e7de6c-ce1a-4600-a598-b2124797a7d2",
   "metadata": {},
   "outputs": [
    {
     "name": "stdout",
     "output_type": "stream",
     "text": [
      "1-91120-P1 unit 1 pump OPM cws_component\n",
      "1-91120-PM1 unit 1 pump motor OPM cws_component\n",
      "91120 pump OPM cws_component\n"
     ]
    }
   ],
   "source": [
    "for ent in doc.ents:\n",
    "    print(ent.text, ent._.alias, ent.ent_id_, ent.label_)"
   ]
  },
  {
   "cell_type": "code",
   "execution_count": null,
   "id": "a6f96cdb-5a85-4b05-bf36-48c8d69b667d",
   "metadata": {},
   "outputs": [],
   "source": []
  }
 ],
 "metadata": {
  "kernelspec": {
   "display_name": "Python 3 (ipykernel)",
   "language": "python",
   "name": "python3"
  },
  "language_info": {
   "codemirror_mode": {
    "name": "ipython",
    "version": 3
   },
   "file_extension": ".py",
   "mimetype": "text/x-python",
   "name": "python",
   "nbconvert_exporter": "python",
   "pygments_lexer": "ipython3",
   "version": "3.11.8"
  }
 },
 "nbformat": 4,
 "nbformat_minor": 5
}
