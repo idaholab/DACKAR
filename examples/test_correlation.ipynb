{
 "cells": [
  {
   "cell_type": "markdown",
   "id": "bd8840d7",
   "metadata": {},
   "source": [
    "# Temporal correlation analysis between discrete point events and times eries data"
   ]
  },
  {
   "cell_type": "code",
   "execution_count": 1,
   "id": "aa829baf-0bc9-4aba-b0a5-4b7bee0a7b96",
   "metadata": {},
   "outputs": [],
   "source": [
    "import numpy as np\n",
    "import pandas as pd\n",
    "import matplotlib.pyplot as plt\n",
    "from sklearn.metrics import pairwise_distances\n",
    "\n",
    "import os, sys\n",
    "\n",
    "cwd = os.getcwd()\n",
    "frameworkDir = os.path.abspath(os.path.join(cwd, os.pardir, 'src'))\n",
    "sys.path.append(frameworkDir)\n",
    "\n",
    "from dackar.utils.num import t_score\n",
    "\n",
    "np.random.seed(6)"
   ]
  },
  {
   "cell_type": "markdown",
   "id": "e04a959f",
   "metadata": {},
   "source": [
    "## Generate example time series"
   ]
  },
  {
   "cell_type": "code",
   "execution_count": 3,
   "id": "5bcc16ab-88f8-493f-9974-20b9f7469a01",
   "metadata": {},
   "outputs": [],
   "source": [
    "def generateSeries(maxT, t1, t2, tsql, sqlDur):\n",
    "    N  = 5000\n",
    "    N_spk = 7\n",
    "\n",
    "    cpu        = np.zeros(N)\n",
    "    t          = np.linspace(0,maxT,N)\n",
    "    noise_base = np.random.normal(0,0.005,N)\n",
    "\n",
    "    spikesLoc = np.random.randint(low=0, high=N, size=N_spk)\n",
    "    spikesDT  = np.random.randint(low=10, high=20, size=N_spk)\n",
    "    \n",
    "    difference_array_1 = np.absolute(t-t1)\n",
    "    index1 = difference_array_1.argmin()\n",
    "\n",
    "    difference_array_2 = np.absolute(t-t2)\n",
    "    index2 = difference_array_2.argmin()\n",
    "    \n",
    "    cpu[0:index1] = .3\n",
    "    cpu[index2:N] = .3\n",
    "    cpu[index1:index2] = .9\n",
    "    cpu = cpu + noise_base\n",
    "    \n",
    "    # random spikes\n",
    "    for i in range(N_spk):\n",
    "        noise_spike = np.absolute(np.random.normal(0,0.04, spikesDT[i]))\n",
    "        for dt in range(spikesDT[i]):\n",
    "            cpu[spikesLoc[i] + dt] = cpu[spikesLoc[i] + dt] + noise_spike[dt]\n",
    "            \n",
    "    # SQL spikes\n",
    "    noiseSQL = np.absolute(np.random.normal(0,0.08, sqlDur))\n",
    "    for dt in range(sqlDur):\n",
    "        cpu[tsql + dt] = cpu[tsql + dt] + noiseSQL[dt]\n",
    "\n",
    "    print('Anomaly ratio: total', (index2-index1 + np.sum(spikesDT[i]))/N)\n",
    "    print('Anomaly ratio: large spikes:', (index2-index1)/N)\n",
    "    print('Anomaly ratio: small spikes', (np.sum(spikesDT[i]))/N)\n",
    "        \n",
    "    return t,cpu"
   ]
  },
  {
   "cell_type": "markdown",
   "id": "62b349dd",
   "metadata": {},
   "source": [
    "## Generate temporal location of a set of events\n",
    "True positive events:\n",
    "* E1: located right before rump-up\n",
    "* E2: located right after rump-up\n",
    "* E3: located right before rump-down\n",
    "* E4: located right after rump-down\n",
    "* E5: located in the middle of squared pulse\n",
    "True negative events:\n",
    "* EA: located before the squared pulse \n",
    "* EB: located after the squared pulse \n",
    "* EC: located after the squared pulse "
   ]
  },
  {
   "cell_type": "code",
   "execution_count": null,
   "id": "f97c5cc0-b2e8-428f-bc56-787b664beb2d",
   "metadata": {},
   "outputs": [
    {
     "name": "stdout",
     "output_type": "stream",
     "text": [
      "Anomaly ratio: total 0.0736\n",
      "Anomaly ratio: large spikes: 0.07\n",
      "Anomaly ratio: small spikes 0.0036\n"
     ]
    }
   ],
   "source": [
    "maxT = 1000\n",
    "t1 = 300\n",
    "t2 = 370\n",
    "tsql   = 650\n",
    "sqlDur = 50\n",
    "t, cpu = generateSeries(maxT, t1, t2, tsql, sqlDur)\n",
    "\n",
    "difference_array_1 = np.absolute(t-t1)\n",
    "loc1 = difference_array_1.argmin()\n",
    "difference_array_2 = np.absolute(t-t2)\n",
    "loc2 = difference_array_2.argmin()\n",
    "\n",
    "# True negative\n",
    "E1_loc = loc1 - 10\n",
    "E2_loc = loc1 + 10\n",
    "E3_loc = loc2 - 10\n",
    "E4_loc = loc2 + 10\n",
    "E5_loc = loc1 + 35\n",
    "\n",
    "# True positive\n",
    "EA = 200\n",
    "difference_array_0 = np.absolute(t-EA)\n",
    "EA_loc = difference_array_0.argmin()\n",
    "\n",
    "EB = 500\n",
    "difference_array_0 = np.absolute(t-EB)\n",
    "EB_loc = difference_array_0.argmin()\n",
    "\n",
    "EC = 900\n",
    "difference_array_0 = np.absolute(t-EC)\n",
    "EC_loc = difference_array_0.argmin()"
   ]
  },
  {
   "cell_type": "code",
   "execution_count": 4,
   "id": "8a746b18-8458-4996-a8b3-b9d48800283b",
   "metadata": {},
   "outputs": [
    {
     "data": {
      "image/png": "[encoded data removed]",
      "text/plain": [
       "<Figure size 640x480 with 1 Axes>"
      ]
     },
     "metadata": {},
     "output_type": "display_data"
    }
   ],
   "source": [
    "plt.close()\n",
    "fig, ax = plt.subplots()\n",
    "ax.plot(t,cpu)\n",
    "\n",
    "plt.xlabel('time [s]')\n",
    "plt.ylabel('cpu load [%]')\n",
    "plt.show()"
   ]
  },
  {
   "cell_type": "code",
   "execution_count": 5,
   "id": "849c098d-822a-450b-95fc-85f88b708273",
   "metadata": {},
   "outputs": [],
   "source": [
    "windowSize = 100\n",
    "omegaSize = 500\n",
    "alpha = 0.05\n",
    "N_iterations = 100\n",
    "alpha_value = 0.0736"
   ]
  },
  {
   "cell_type": "code",
   "execution_count": 6,
   "id": "610b02fa-7f9e-43f7-bdaf-d0582e3d17b2",
   "metadata": {},
   "outputs": [
    {
     "name": "stdout",
     "output_type": "stream",
     "text": [
      "=============================================\n",
      "Computing statitics for Lfront vs. omega\n",
      "The probability of the sub-series are generated from the normal conditions of full time-series is 0.732, which is greater than given test value 0.0736\n",
      "Correlated? False p value: 0.732\n",
      "\n",
      "Computing statistics for Lrear vs. omega\n",
      "The probability of the sub-series are generated from the normal conditions of full time-series is 0.010000000000000009, which is smaller than given test value 0.0736\n",
      "Correlated? True p value: 0.010000000000000009\n",
      "\n",
      "Computing statitics for Lfront vs. Lrear\n",
      "The p-value is: 0.01, which is less than the significant level: 0.05\n",
      "Correlated? True p value: 0.01\n",
      "\n",
      "Computing statitics for Lfront u Lrear vs. omega\n",
      "The probability of the sub-series are generated from the normal conditions of full time-series is 0.02200000000000002, which is smaller than given test value 0.0736\n",
      "Correlated? True p value: 0.02200000000000002\n",
      "Identified relation:  E --> S\n"
     ]
    },
    {
     "data": {
      "text/plain": [
       "'E --> S'"
      ]
     },
     "execution_count": 6,
     "metadata": {},
     "output_type": "execute_result"
    }
   ],
   "source": [
    "t_score.event2TStest(E_loc=E1_loc, TS=cpu, iterations=N_iterations, alphaTest=alpha, alphaOmegaset=alpha_value, windowSize=windowSize, omegaSize=omegaSize)"
   ]
  },
  {
   "cell_type": "code",
   "execution_count": 7,
   "id": "540ee985-05c4-4c9a-bcfc-16490917b75e",
   "metadata": {},
   "outputs": [
    {
     "name": "stdout",
     "output_type": "stream",
     "text": [
      "=============================================\n",
      "Computing statitics for Lfront vs. omega\n",
      "The probability of the sub-series are generated from the normal conditions of full time-series is 0.010000000000000009, which is smaller than given test value 0.0736\n",
      "Correlated? True p value: 0.010000000000000009\n",
      "\n",
      "Computing statistics for Lrear vs. omega\n",
      "The probability of the sub-series are generated from the normal conditions of full time-series is 0.04400000000000004, which is smaller than given test value 0.0736\n",
      "Correlated? True p value: 0.04400000000000004\n",
      "\n",
      "Computing statitics for Lfront vs. Lrear\n",
      "The p-value is: 0.01, which is less than the significant level: 0.05\n",
      "Correlated? True p value: 0.01\n",
      "\n",
      "Computing statitics for Lfront u Lrear vs. omega\n",
      "The probability of the sub-series are generated from the normal conditions of full time-series is 0.006000000000000005, which is smaller than given test value 0.0736\n",
      "Correlated? True p value: 0.006000000000000005\n",
      "Identified relation:  S -->* E\n"
     ]
    },
    {
     "data": {
      "text/plain": [
       "'S -->* E'"
      ]
     },
     "execution_count": 7,
     "metadata": {},
     "output_type": "execute_result"
    }
   ],
   "source": [
    "t_score.event2TStest(E_loc=E2_loc, TS=cpu, iterations=N_iterations, alphaTest=alpha, alphaOmegaset=alpha_value, windowSize=windowSize, omegaSize=omegaSize)"
   ]
  },
  {
   "cell_type": "code",
   "execution_count": 8,
   "id": "74920e98-40d6-4719-a5f4-c0412abff925",
   "metadata": {},
   "outputs": [
    {
     "name": "stdout",
     "output_type": "stream",
     "text": [
      "=============================================\n",
      "Computing statitics for Lfront vs. omega\n",
      "The probability of the sub-series are generated from the normal conditions of full time-series is 0.052000000000000046, which is smaller than given test value 0.0736\n",
      "Correlated? True p value: 0.052000000000000046\n",
      "\n",
      "Computing statistics for Lrear vs. omega\n",
      "The probability of the sub-series are generated from the normal conditions of full time-series is 0.01200000000000001, which is smaller than given test value 0.0736\n",
      "Correlated? True p value: 0.01200000000000001\n",
      "\n",
      "Computing statitics for Lfront vs. Lrear\n",
      "The p-value is: 0.01, which is less than the significant level: 0.05\n",
      "Correlated? True p value: 0.01\n",
      "\n",
      "Computing statitics for Lfront u Lrear vs. omega\n",
      "The probability of the sub-series are generated from the normal conditions of full time-series is 0.020000000000000018, which is smaller than given test value 0.0736\n",
      "Correlated? True p value: 0.020000000000000018\n",
      "Identified relation:  E -->* S\n"
     ]
    },
    {
     "data": {
      "text/plain": [
       "'E -->* S'"
      ]
     },
     "execution_count": 8,
     "metadata": {},
     "output_type": "execute_result"
    }
   ],
   "source": [
    "t_score.event2TStest(E_loc=E3_loc, TS=cpu, iterations=N_iterations, alphaTest=alpha, alphaOmegaset=alpha_value, windowSize=windowSize, omegaSize=omegaSize)"
   ]
  },
  {
   "cell_type": "code",
   "execution_count": 9,
   "id": "16259e81-9b24-4b7a-9b84-4baf9d6a9890",
   "metadata": {},
   "outputs": [
    {
     "name": "stdout",
     "output_type": "stream",
     "text": [
      "=============================================\n",
      "Computing statitics for Lfront vs. omega\n",
      "The probability of the sub-series are generated from the normal conditions of full time-series is 0.008000000000000007, which is smaller than given test value 0.0736\n",
      "Correlated? True p value: 0.008000000000000007\n",
      "\n",
      "Computing statistics for Lrear vs. omega\n",
      "The probability of the sub-series are generated from the normal conditions of full time-series is 0.756, which is greater than given test value 0.0736\n",
      "Correlated? False p value: 0.756\n",
      "\n",
      "Computing statitics for Lfront vs. Lrear\n",
      "The p-value is: 0.01, which is less than the significant level: 0.05\n",
      "Correlated? True p value: 0.01\n",
      "\n",
      "Computing statitics for Lfront u Lrear vs. omega\n",
      "The probability of the sub-series are generated from the normal conditions of full time-series is 0.014000000000000012, which is smaller than given test value 0.0736\n",
      "Correlated? True p value: 0.014000000000000012\n",
      "Identified relation:  S --> E\n"
     ]
    },
    {
     "data": {
      "text/plain": [
       "'S --> E'"
      ]
     },
     "execution_count": 9,
     "metadata": {},
     "output_type": "execute_result"
    }
   ],
   "source": [
    "t_score.event2TStest(E_loc=E4_loc, TS=cpu, iterations=N_iterations, alphaTest=alpha, alphaOmegaset=alpha_value, windowSize=windowSize, omegaSize=omegaSize)"
   ]
  },
  {
   "cell_type": "code",
   "execution_count": 10,
   "id": "93b07cf3-81db-43bb-ae04-0f182a062446",
   "metadata": {},
   "outputs": [
    {
     "name": "stdout",
     "output_type": "stream",
     "text": [
      "=============================================\n",
      "Computing statitics for Lfront vs. omega\n",
      "The probability of the sub-series are generated from the normal conditions of full time-series is 0.014000000000000012, which is smaller than given test value 0.0736\n",
      "Correlated? True p value: 0.014000000000000012\n",
      "\n",
      "Computing statistics for Lrear vs. omega\n",
      "The probability of the sub-series are generated from the normal conditions of full time-series is 0.05800000000000005, which is smaller than given test value 0.0736\n",
      "Correlated? True p value: 0.05800000000000005\n",
      "\n",
      "Computing statitics for Lfront vs. Lrear\n",
      "The p-value is: 0.01, which is less than the significant level: 0.05\n",
      "Correlated? True p value: 0.01\n",
      "\n",
      "Computing statitics for Lfront u Lrear vs. omega\n",
      "The probability of the sub-series are generated from the normal conditions of full time-series is 0.0, which is smaller than given test value 0.0736\n",
      "Correlated? True p value: 0.0\n",
      "Identified relation:  S -->* E\n"
     ]
    },
    {
     "data": {
      "text/plain": [
       "'S -->* E'"
      ]
     },
     "execution_count": 10,
     "metadata": {},
     "output_type": "execute_result"
    }
   ],
   "source": [
    "t_score.event2TStest(E_loc=E5_loc, TS=cpu, iterations=N_iterations, alphaTest=alpha, alphaOmegaset=alpha_value, windowSize=windowSize, omegaSize=omegaSize)"
   ]
  },
  {
   "cell_type": "code",
   "execution_count": 11,
   "id": "9c25e27d-d531-48fb-bac8-aa9ace3ed353",
   "metadata": {},
   "outputs": [
    {
     "name": "stdout",
     "output_type": "stream",
     "text": [
      "=============================================\n",
      "Computing statitics for Lfront vs. omega\n",
      "The probability of the sub-series are generated from the normal conditions of full time-series is 0.77, which is greater than given test value 0.0736\n",
      "Correlated? False p value: 0.77\n",
      "\n",
      "Computing statistics for Lrear vs. omega\n",
      "The probability of the sub-series are generated from the normal conditions of full time-series is 0.772, which is greater than given test value 0.0736\n",
      "Correlated? False p value: 0.772\n",
      "\n",
      "Computing statitics for Lfront vs. Lrear\n",
      "The p-value is: 0.68, which is larger than the significant level: 0.05\n",
      "Correlated? False p value: 0.68\n",
      "\n",
      "Computing statitics for Lfront u Lrear vs. omega\n",
      "The probability of the sub-series are generated from the normal conditions of full time-series is 0.764, which is greater than given test value 0.0736\n",
      "Correlated? False p value: 0.764\n",
      "Identified relation:  S!E\n"
     ]
    },
    {
     "data": {
      "text/plain": [
       "'S!E'"
      ]
     },
     "execution_count": 11,
     "metadata": {},
     "output_type": "execute_result"
    }
   ],
   "source": [
    "t_score.event2TStest(E_loc=EA_loc, TS=cpu, iterations=N_iterations, alphaTest=alpha, alphaOmegaset=alpha_value, windowSize=windowSize, omegaSize=omegaSize)"
   ]
  },
  {
   "cell_type": "code",
   "execution_count": 12,
   "id": "9b8abed4-a57c-41cc-a44b-f5106c2b3431",
   "metadata": {},
   "outputs": [
    {
     "name": "stdout",
     "output_type": "stream",
     "text": [
      "=============================================\n",
      "Computing statitics for Lfront vs. omega\n",
      "The probability of the sub-series are generated from the normal conditions of full time-series is 0.728, which is greater than given test value 0.0736\n",
      "Correlated? False p value: 0.728\n",
      "\n",
      "Computing statistics for Lrear vs. omega\n",
      "The probability of the sub-series are generated from the normal conditions of full time-series is 0.716, which is greater than given test value 0.0736\n",
      "Correlated? False p value: 0.716\n",
      "\n",
      "Computing statitics for Lfront vs. Lrear\n",
      "The p-value is: 0.55, which is larger than the significant level: 0.05\n",
      "Correlated? False p value: 0.55\n",
      "\n",
      "Computing statitics for Lfront u Lrear vs. omega\n",
      "The probability of the sub-series are generated from the normal conditions of full time-series is 0.72, which is greater than given test value 0.0736\n",
      "Correlated? False p value: 0.72\n",
      "Identified relation:  S!E\n"
     ]
    },
    {
     "data": {
      "text/plain": [
       "'S!E'"
      ]
     },
     "execution_count": 12,
     "metadata": {},
     "output_type": "execute_result"
    }
   ],
   "source": [
    "t_score.event2TStest(E_loc=EB_loc, TS=cpu, iterations=N_iterations, alphaTest=alpha, alphaOmegaset=alpha_value, windowSize=windowSize, omegaSize=omegaSize)"
   ]
  },
  {
   "cell_type": "code",
   "execution_count": 13,
   "id": "b33ac31f-953e-4b07-bb36-62726e9540ff",
   "metadata": {},
   "outputs": [
    {
     "name": "stdout",
     "output_type": "stream",
     "text": [
      "=============================================\n",
      "Computing statitics for Lfront vs. omega\n",
      "The probability of the sub-series are generated from the normal conditions of full time-series is 0.714, which is greater than given test value 0.0736\n",
      "Correlated? False p value: 0.714\n",
      "\n",
      "Computing statistics for Lrear vs. omega\n",
      "The probability of the sub-series are generated from the normal conditions of full time-series is 0.716, which is greater than given test value 0.0736\n",
      "Correlated? False p value: 0.716\n",
      "\n",
      "Computing statitics for Lfront vs. Lrear\n",
      "The p-value is: 0.8, which is larger than the significant level: 0.05\n",
      "Correlated? False p value: 0.8\n",
      "\n",
      "Computing statitics for Lfront u Lrear vs. omega\n",
      "The probability of the sub-series are generated from the normal conditions of full time-series is 0.69, which is greater than given test value 0.0736\n",
      "Correlated? False p value: 0.69\n",
      "Identified relation:  S!E\n"
     ]
    },
    {
     "data": {
      "text/plain": [
       "'S!E'"
      ]
     },
     "execution_count": 13,
     "metadata": {},
     "output_type": "execute_result"
    }
   ],
   "source": [
    "t_score.event2TStest(E_loc=EC_loc, TS=cpu, iterations=N_iterations, alphaTest=alpha, alphaOmegaset=alpha_value, windowSize=windowSize, omegaSize=omegaSize)"
   ]
  }
 ],
 "metadata": {
  "kernelspec": {
   "display_name": "dackar_libs",
   "language": "python",
   "name": "python3"
  },
  "language_info": {
   "codemirror_mode": {
    "name": "ipython",
    "version": 3
   },
   "file_extension": ".py",
   "mimetype": "text/x-python",
   "name": "python",
   "nbconvert_exporter": "python",
   "pygments_lexer": "ipython3",
   "version": "3.11.8"
  }
 },
 "nbformat": 4,
 "nbformat_minor": 5
}
