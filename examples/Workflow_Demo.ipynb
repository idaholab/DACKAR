{
 "cells": [
  {
   "cell_type": "markdown",
   "id": "0d288bbe-c31c-4be8-9b5d-cb11b5a3a514",
   "metadata": {},
   "source": [
    "# Demo For NLP Workflow: based on branch wangc/nlp"
   ]
  },
  {
   "cell_type": "markdown",
   "id": "976dfa17-f796-43f4-a801-bd102a5ac551",
   "metadata": {},
   "source": [
    "### 1. Set Paths and Loading Required Modules \n",
    "- required libraries, please check SR2ML/dependencies.xml"
   ]
  },
  {
   "cell_type": "code",
   "execution_count": 1,
   "id": "d55142b4-776b-4d7a-8954-60f2c10a5075",
   "metadata": {},
   "outputs": [
    {
     "name": "stderr",
     "output_type": "stream",
     "text": [
      "/Users/wangc/miniconda3/envs/nlp_libs/lib/python3.9/site-packages/tqdm/auto.py:21: TqdmWarning: IProgress not found. Please update jupyter and ipywidgets. See https://ipywidgets.readthedocs.io/en/stable/user_install.html\n",
      "  from .autonotebook import tqdm as notebook_tqdm\n",
      "Warming up PyWSD (takes ~10 secs)... took 3.64813494682312 secs.\n",
      "/Users/wangc/miniconda3/envs/nlp_libs/lib/python3.9/site-packages/torch/__init__.py:614: UserWarning: torch.set_default_tensor_type() is deprecated as of PyTorch 2.1, please use torch.set_default_dtype() and torch.set_default_device() as alternatives. (Triggered internally at /Users/runner/work/pytorch/pytorch/pytorch/torch/csrc/tensor/python_tensor.cpp:453.)\n",
      "  _C._set_default_tensor_type(t)\n"
     ]
    }
   ],
   "source": [
    "# External Modules #\n",
    "import os\n",
    "import sys\n",
    "import pandas as pd\n",
    "import spacy\n",
    "import logging\n",
    "import numerizer \n",
    "#######################\n",
    "\n",
    "# Settings #\n",
    "cwd = os.getcwd()\n",
    "frameworkDir = os.path.abspath(os.path.join(cwd, os.pardir, 'src'))\n",
    "sys.path.append(frameworkDir)\n",
    "########################\n",
    "\n",
    "# Internal Modules #\n",
    "from dackar.workflows.RuleBasedMatcher import RuleBasedMatcher\n",
    "from dackar import config\n",
    "from dackar.utils.nlp.nlp_utils import generatePatternList\n",
    "from dackar.utils.opm.OPLparser import OPMobject\n",
    "from dackar.text_processing.Preprocessing import Preprocessing\n",
    "from dackar.text_processing.Preprocessing import SpellChecker\n",
    "#########################\n",
    "\n",
    "# logging.basicConfig(format='%(asctime)s %(name)-20s %(levelname)-8s %(message)s', datefmt='%d-%b-%y %H:%M:%S', level=logging.DEBUG)\n",
    "logging.basicConfig(format='%(asctime)s %(name)-20s %(levelname)-8s %(message)s', datefmt='%d-%b-%y %H:%M:%S', level=logging.INFO)\n",
    "nlp = spacy.load(\"en_core_web_lg\", exclude=[])"
   ]
  },
  {
   "cell_type": "markdown",
   "id": "e042942d-2cc8-4085-997b-9278928ddeb4",
   "metadata": {},
   "source": [
    "### 2. Initialize variables "
   ]
  },
  {
   "cell_type": "code",
   "execution_count": 2,
   "id": "6e2447ac-efad-427a-840c-f5e1776fc5ff",
   "metadata": {},
   "outputs": [],
   "source": [
    "cleanDoc = True         # prepocessor the raw doc text, i.e., remove brackets, repeatings, punctuations.\n",
    "numerizerDoc = True     # converts natural language numerics into ints and floats\n",
    "spellCorrectDoc = False # spell check and perform corrections\n",
    "\n",
    "entLabel = \"pump_component\"       # user defined entity label\n",
    "entId = \"SSC\"                     # user defined entity ID \n",
    "causalLabel = \"causal_keywords\"   # user defined causal keyword label \n",
    "causalID = \"causal\"               # user defined causal keyword ID \n",
    "ents = []                         # user provided entities list\n",
    "causalList = []                   # user provided causal keyword list\n",
    "\n",
    "removeBrackets = ['curly', 'square', 'round']\n",
    "removeRepeatings = ['.']\n",
    "# TODO: extend repeating_chars to handle a list of chars, right now we can only pass one chars\n",
    "removePunctuation = ['/', \"#\", '~'] # right now puncuation is replaced with whitespace, we may need to replace it with None\n",
    "# TODO: add replace functions, for example, replace acronyms with full name\n",
    "\n",
    "preprocessorList = ['bullet_points', \n",
    "                    'hyphenated_words', \n",
    "                    'quotation_marks',   \n",
    "                    'unicode', \n",
    "                    'repeating_chars',\n",
    "                    'accents', \n",
    "                    'brackets', \n",
    "                    'html_tags', \n",
    "                    'punctuation', \n",
    "                    # 'currency_symbols', \n",
    "                    'emails', \n",
    "                    'emojis', \n",
    "                    'hashtags', \n",
    "                    # 'numbers', \n",
    "                    'phone_numbers', \n",
    "                    'urls', \n",
    "                    'user_handles', \n",
    "                    'whitespace',\n",
    "                    'numerize']\n",
    "preprocessorOptions = {'repeating_chars': {'chars': removeRepeatings[0], 'maxn': 1}, \n",
    "                       'unicode': {'form': 'NFKC'}, \n",
    "                       'accents': {'fast': False}, \n",
    "                       'brackets': {'only': removeBrackets},\n",
    "                       'punctuation': {'only': removePunctuation}}\n",
    "\n",
    "preprocess = Preprocessing(preprocessorList, preprocessorOptions)"
   ]
  },
  {
   "cell_type": "markdown",
   "id": "2bfb8a74-7f27-4635-b646-799e122e1c22",
   "metadata": {},
   "source": [
    "### 3. Load entity list and causal list or provide directly"
   ]
  },
  {
   "cell_type": "code",
   "execution_count": 3,
   "id": "9200dbab-1e1c-43f3-993a-b2529e2ec545",
   "metadata": {},
   "outputs": [],
   "source": [
    "entityFile = config.nlpConfig['files']['entity_file']\n",
    "entityList = pd.read_csv(entityFile).values.ravel().tolist()\n",
    "ents.extend(entityList)\n",
    "\n",
    "causalFilename = config.nlpConfig['files']['cause_effect_keywords_file']\n",
    "ds = pd.read_csv(causalFilename, skipinitialspace=True)\n",
    "for col in ds.columns:\n",
    "    causalList.extend(set(ds[col].dropna()))"
   ]
  },
  {
   "cell_type": "markdown",
   "id": "488ff3a8-952e-4afe-abf0-afbd32a4bd6e",
   "metadata": {},
   "source": [
    "### 4. Generate patterns that can be used in NER "
   ]
  },
  {
   "cell_type": "code",
   "execution_count": 4,
   "id": "fff8ad04-10e3-4d95-9c4c-614d27fa66e0",
   "metadata": {},
   "outputs": [],
   "source": [
    "patternsEnts = generatePatternList(ents, label=entLabel, id=entId, nlp=nlp, attr=\"LEMMA\")\n",
    "patternsCausal = generatePatternList(causalList, label=causalLabel, id=causalID, nlp=nlp, attr=\"LEMMA\")"
   ]
  },
  {
   "cell_type": "markdown",
   "id": "b21f7184-0926-4a10-ad76-cb3cc40d308b",
   "metadata": {},
   "source": [
    "### 5. Create Rule-based matcher with entity list and causal entity list"
   ]
  },
  {
   "cell_type": "code",
   "execution_count": 5,
   "id": "1cdffe02-b5a1-43cd-8ec9-e77e8466349a",
   "metadata": {},
   "outputs": [
    {
     "name": "stderr",
     "output_type": "stream",
     "text": [
      "24-Oct-23 20:04:16 dackar.workflows.RuleBasedMatcher INFO     Create instance of RuleBasedMatcher\n",
      "24-Oct-23 20:04:20 dackar.utils.nlp.nlp_utils INFO     Model: core_web_lg, Language: en\n",
      "24-Oct-23 20:04:20 dackar.utils.nlp.nlp_utils INFO     Available pipelines:pysbdSentenceBoundaries, tok2vec, tagger, parser, attribute_ruler, lemmatizer, mergePhrase, normEntities, initCoref, aliasResolver, coreferee, anaphorCoref, anaphorEntCoref\n"
     ]
    }
   ],
   "source": [
    "matcher = RuleBasedMatcher(nlp, entLabel=entId, causalKeywordLabel=causalID)\n",
    "\n",
    "matcher.addEntityPattern('ssc_entity_ruler', patternsEnts)\n",
    "matcher.addEntityPattern('causal_keywords_entity_ruler', patternsCausal)"
   ]
  },
  {
   "cell_type": "markdown",
   "id": "31663b1f-fa75-4bf7-8df3-8cded23e18a7",
   "metadata": {},
   "source": [
    "### 6. Read Raw Text Data and Preprocess it"
   ]
  },
  {
   "cell_type": "code",
   "execution_count": 6,
   "id": "8dbc176a-2aec-43d4-9a27-c455d4796c9c",
   "metadata": {},
   "outputs": [],
   "source": [
    "# Read Raw Text Data, Users can also provide a raw string here\n",
    "textFile = config.nlpConfig['files']['text_file']\n",
    "with open(textFile, 'r') as ft:\n",
    "    doc = ft.read()\n",
    "\n",
    "# clean doc\n",
    "if cleanDoc:\n",
    "    doc = preprocess(doc)\n",
    "if numerizerDoc:\n",
    "    doc = numerizer.numerize(doc)"
   ]
  },
  {
   "cell_type": "markdown",
   "id": "e3eaba8c-1628-430c-aa29-a3aba4b4ebb5",
   "metadata": {},
   "source": [
    "### 7. Correct the doc "
   ]
  },
  {
   "cell_type": "code",
   "execution_count": 7,
   "id": "9c4f322a-787c-4414-81a2-913d988a986e",
   "metadata": {},
   "outputs": [],
   "source": [
    "availCheckers = ['autocorrect', 'ContextualSpellCheck']\n",
    "if spellCorrectDoc: \n",
    "    checker = SpellChecker(doc, checker=availCheckers[0])\n",
    "    misspelledWords = checker.getMisspelledWords()\n",
    "    print('MisspelledWords: ', ','.join(misspelledWords))\n",
    "    updatedWords = input('Provide the words that will not be treated as misspelled words (comma sperated words):')\n",
    "    updatedWords = [word.strip() for word in updatedWords.split(',')]\n",
    "    if len(updatedWords) != 0:\n",
    "        checker.addWordsToDictionary(updatedWords)\n",
    "    doc = checker.correct()"
   ]
  },
  {
   "cell_type": "code",
   "execution_count": 8,
   "id": "075cb669-1bea-4955-9d8b-41f8e42fddda",
   "metadata": {},
   "outputs": [],
   "source": [
    "# raw text need to convert to lower case so that Spacy can perform POS correctly\n",
    "doc = doc.lower()"
   ]
  },
  {
   "cell_type": "code",
   "execution_count": 9,
   "id": "85a7243b-c947-4aa0-961d-f64fbd225988",
   "metadata": {},
   "outputs": [
    {
     "name": "stderr",
     "output_type": "stream",
     "text": [
      "24-Oct-23 20:04:21 dackar.workflows.RuleBasedMatcher INFO     Start to extract health status\n",
      "24-Oct-23 20:04:21 dackar.workflows.RuleBasedMatcher WARNING  Entity \"turbine\" dep_ is \"nmod\" is not among valid list \"[nsubj, nsubjpass, pobj, dobj, compound]\"\n",
      "24-Oct-23 20:04:21 dackar.workflows.RuleBasedMatcher WARNING  Entity \"fnm-5\" dep_ is \"nummod\" is not among valid list \"[nsubj, nsubjpass, pobj, dobj, compound]\"\n",
      "24-Oct-23 20:04:21 dackar.workflows.RuleBasedMatcher WARNING  Entity \"circuit\" dep_ is \"attr\" is not among valid list \"[nsubj, nsubjpass, pobj, dobj, compound]\"\n",
      "24-Oct-23 20:04:21 dackar.workflows.RuleBasedMatcher INFO     End of health status extraction!\n",
      "24-Oct-23 20:04:21 dackar.workflows.RuleBasedMatcher INFO     Start to extract causal relation using OPM model information\n",
      "24-Oct-23 20:04:21 dackar.workflows.RuleBasedMatcher WARNING  Issue found: 'cause list': None, and 'effect list': None were identified in sentence 'the main steam dump and bypass system consists of 4 automatically actuated asdvs which exhaust to atmosphere, and 1 turbine bypass valve which exhausts to the main condenser.\n",
      "'\n",
      "24-Oct-23 20:04:21 dackar.workflows.RuleBasedMatcher WARNING  Issue found: 'cause list': [[steam generator]], and 'effect list': None were identified in sentence 'the asdvs have a back up nitrogen supply to allow steam generator pressure control during station blackout.\n",
      "'\n",
      "24-Oct-23 20:04:21 dackar.workflows.RuleBasedMatcher WARNING  Issue found: 'cause list': None, and 'effect list': [[asdvs]] were identified in sentence 'the opening of the fuse resulted in loss of power to the im13 scheme, which disabled the automatic fast open function, as well as the manual operation, of the asdvs.\n",
      "'\n",
      "24-Oct-23 20:04:21 dackar.workflows.RuleBasedMatcher WARNING  Issue found: 'cause list': None, and 'effect list': [[asdvs]] were identified in sentence 'fuse im13-1 opened, which disabled the automatic fast open function, as well as the manual operation, of the asdvs.\n",
      "'\n",
      "24-Oct-23 20:04:21 dackar.workflows.RuleBasedMatcher WARNING  Issue found: 'cause list': None, and 'effect list': [[sdcr relay]] were identified in sentence 'the fuse opened because the sdcr relay failed due to an internal failure of the electrical coil.\n",
      "'\n",
      "24-Oct-23 20:04:21 dackar.workflows.RuleBasedMatcher WARNING  Issue found: 'cause list': None, and 'effect list': [[relay]] were identified in sentence 'the relay coil was beyond the vendor recommended life because the duty cycle of the relay was set at \"low duty cycle\" when it should have been \"high duty cycle\" due to the normally energized state of the relay.\n",
      "'\n",
      "24-Oct-23 20:04:21 dackar.workflows.RuleBasedMatcher INFO     End of causal relation extraction!\n"
     ]
    },
    {
     "name": "stdout",
     "output_type": "stream",
     "text": [
      "0: relay(37), relay(52); 1: asdvs(224), asdvs(247), asdvs(294), asdvs(311), asdvs(379); 2: fuse(331), fuse(357); 3: relay(425), relay(443), relay(462), relay(466), relay(481); 4: the duty cycle(440), it(450); 5: asdvs(486), asdvs(500), asdvs(547); 6: relay(556), relay(601), relay(620); 7: coil(591), it(608); 8: asdvs(672), asdvs(678); 9: relay(708), relay(720), relay(737); 10: the preventive maintenance optimization code(713), it(724)\n"
     ]
    }
   ],
   "source": [
    "matcher(doc)"
   ]
  },
  {
   "cell_type": "markdown",
   "id": "fc57981f-3356-4c81-a87a-634f92a58001",
   "metadata": {},
   "source": [
    "TODO:\n",
    "1. Able to retrieve info from Jupyter Notebook by loading CSV files \n",
    "2. Able to analysis results directly, for example, knowledge graph \n",
    "3. Update rules for excavator use case\n",
    "4. Review regexp "
   ]
  },
  {
   "cell_type": "code",
   "execution_count": 10,
   "id": "1517ae33-239d-49d2-9d8c-02fba74fe7b3",
   "metadata": {},
   "outputs": [],
   "source": [
    "# # Following used to retrieve causal effect information\n",
    "# causalEffect = config.nlpConfig['files']['output_causal_effect_file']\n",
    "# causalEffect = pd.read_csv(causalEffect)"
   ]
  },
  {
   "cell_type": "code",
   "execution_count": 11,
   "id": "a41cb301-01f3-4975-9124-b3ac18118395",
   "metadata": {},
   "outputs": [],
   "source": [
    "healthStatus = config.nlpConfig['files']['output_health_status_file']\n",
    "healthStatus = pd.read_csv(healthStatus)"
   ]
  },
  {
   "cell_type": "code",
   "execution_count": null,
   "id": "d2a5f63d-f880-4e75-abca-2eb48dbeea9c",
   "metadata": {},
   "outputs": [],
   "source": []
  },
  {
   "cell_type": "code",
   "execution_count": 12,
   "id": "13603f03-7571-4806-b599-ff685a544482",
   "metadata": {},
   "outputs": [
    {
     "data": {
      "text/html": [
       "<div>\n",
       "<style scoped>\n",
       "    .dataframe tbody tr th:only-of-type {\n",
       "        vertical-align: middle;\n",
       "    }\n",
       "\n",
       "    .dataframe tbody tr th {\n",
       "        vertical-align: top;\n",
       "    }\n",
       "\n",
       "    .dataframe thead th {\n",
       "        text-align: right;\n",
       "    }\n",
       "</style>\n",
       "<table border=\"1\" class=\"dataframe\">\n",
       "  <thead>\n",
       "    <tr style=\"text-align: right;\">\n",
       "      <th></th>\n",
       "      <th>Unnamed: 0</th>\n",
       "      <th>entities</th>\n",
       "      <th>root</th>\n",
       "      <th>status keywords</th>\n",
       "      <th>health statuses</th>\n",
       "      <th>conjecture</th>\n",
       "      <th>sentence</th>\n",
       "    </tr>\n",
       "  </thead>\n",
       "  <tbody>\n",
       "    <tr>\n",
       "      <th>0</th>\n",
       "      <td>0</td>\n",
       "      <td>control room</td>\n",
       "      <td>NaN</td>\n",
       "      <td>NaN</td>\n",
       "      <td>an acrid odor</td>\n",
       "      <td>False</td>\n",
       "      <td>at the palisades nuclear plant, on june 16, 20...</td>\n",
       "    </tr>\n",
       "    <tr>\n",
       "      <th>1</th>\n",
       "      <td>1</td>\n",
       "      <td>steam dump control relay</td>\n",
       "      <td>NaN</td>\n",
       "      <td>NaN</td>\n",
       "      <td>failed</td>\n",
       "      <td>False</td>\n",
       "      <td>investigation revealed that the steam dump con...</td>\n",
       "    </tr>\n",
       "    <tr>\n",
       "      <th>2</th>\n",
       "      <td>2</td>\n",
       "      <td>atmospheric steam dump valves</td>\n",
       "      <td>NaN</td>\n",
       "      <td>NaN</td>\n",
       "      <td>inoperable</td>\n",
       "      <td>False</td>\n",
       "      <td>investigation revealed that the steam dump con...</td>\n",
       "    </tr>\n",
       "    <tr>\n",
       "      <th>3</th>\n",
       "      <td>3</td>\n",
       "      <td>relay</td>\n",
       "      <td>NaN</td>\n",
       "      <td>NaN</td>\n",
       "      <td>replaced</td>\n",
       "      <td>False</td>\n",
       "      <td>the relay was replaced and the asdvs were retu...</td>\n",
       "    </tr>\n",
       "    <tr>\n",
       "      <th>4</th>\n",
       "      <td>4</td>\n",
       "      <td>asdvs</td>\n",
       "      <td>return</td>\n",
       "      <td>NaN</td>\n",
       "      <td>service</td>\n",
       "      <td>False</td>\n",
       "      <td>the relay was replaced and the asdvs were retu...</td>\n",
       "    </tr>\n",
       "    <tr>\n",
       "      <th>...</th>\n",
       "      <td>...</td>\n",
       "      <td>...</td>\n",
       "      <td>...</td>\n",
       "      <td>...</td>\n",
       "      <td>...</td>\n",
       "      <td>...</td>\n",
       "      <td>...</td>\n",
       "    </tr>\n",
       "    <tr>\n",
       "      <th>67</th>\n",
       "      <td>67</td>\n",
       "      <td>relay</td>\n",
       "      <td>NaN</td>\n",
       "      <td>NaN</td>\n",
       "      <td>replaced</td>\n",
       "      <td>False</td>\n",
       "      <td>the fuse and relay were replaced.</td>\n",
       "    </tr>\n",
       "    <tr>\n",
       "      <th>68</th>\n",
       "      <td>68</td>\n",
       "      <td>relay</td>\n",
       "      <td>NaN</td>\n",
       "      <td>show</td>\n",
       "      <td>NaN</td>\n",
       "      <td>False</td>\n",
       "      <td>the preventive maintenance optimization code i...</td>\n",
       "    </tr>\n",
       "    <tr>\n",
       "      <th>69</th>\n",
       "      <td>69</td>\n",
       "      <td>relay</td>\n",
       "      <td>NaN</td>\n",
       "      <td>NaN</td>\n",
       "      <td>maintenance</td>\n",
       "      <td>True</td>\n",
       "      <td>this action will appropriately prioritize main...</td>\n",
       "    </tr>\n",
       "    <tr>\n",
       "      <th>70</th>\n",
       "      <td>70</td>\n",
       "      <td>atmospheric steam dump valves</td>\n",
       "      <td>NaN</td>\n",
       "      <td>NaN</td>\n",
       "      <td>inoperable</td>\n",
       "      <td>False</td>\n",
       "      <td>atmospheric steam dump valves inoperable due t...</td>\n",
       "    </tr>\n",
       "    <tr>\n",
       "      <th>71</th>\n",
       "      <td>71</td>\n",
       "      <td>relay</td>\n",
       "      <td>NaN</td>\n",
       "      <td>NaN</td>\n",
       "      <td>failure</td>\n",
       "      <td>False</td>\n",
       "      <td>atmospheric steam dump valves inoperable due t...</td>\n",
       "    </tr>\n",
       "  </tbody>\n",
       "</table>\n",
       "<p>72 rows × 7 columns</p>\n",
       "</div>"
      ],
      "text/plain": [
       "    Unnamed: 0                       entities    root status keywords  \\\n",
       "0            0                   control room     NaN             NaN   \n",
       "1            1       steam dump control relay     NaN             NaN   \n",
       "2            2  atmospheric steam dump valves     NaN             NaN   \n",
       "3            3                          relay     NaN             NaN   \n",
       "4            4                          asdvs  return             NaN   \n",
       "..         ...                            ...     ...             ...   \n",
       "67          67                          relay     NaN             NaN   \n",
       "68          68                          relay     NaN            show   \n",
       "69          69                          relay     NaN             NaN   \n",
       "70          70  atmospheric steam dump valves     NaN             NaN   \n",
       "71          71                          relay     NaN             NaN   \n",
       "\n",
       "   health statuses  conjecture  \\\n",
       "0    an acrid odor       False   \n",
       "1           failed       False   \n",
       "2       inoperable       False   \n",
       "3         replaced       False   \n",
       "4          service       False   \n",
       "..             ...         ...   \n",
       "67        replaced       False   \n",
       "68             NaN       False   \n",
       "69     maintenance        True   \n",
       "70      inoperable       False   \n",
       "71         failure       False   \n",
       "\n",
       "                                             sentence  \n",
       "0   at the palisades nuclear plant, on june 16, 20...  \n",
       "1   investigation revealed that the steam dump con...  \n",
       "2   investigation revealed that the steam dump con...  \n",
       "3   the relay was replaced and the asdvs were retu...  \n",
       "4   the relay was replaced and the asdvs were retu...  \n",
       "..                                                ...  \n",
       "67                  the fuse and relay were replaced.  \n",
       "68  the preventive maintenance optimization code i...  \n",
       "69  this action will appropriately prioritize main...  \n",
       "70  atmospheric steam dump valves inoperable due t...  \n",
       "71  atmospheric steam dump valves inoperable due t...  \n",
       "\n",
       "[72 rows x 7 columns]"
      ]
     },
     "execution_count": 12,
     "metadata": {},
     "output_type": "execute_result"
    }
   ],
   "source": [
    "healthStatus"
   ]
  },
  {
   "cell_type": "code",
   "execution_count": 13,
   "id": "196e911e-6270-41bf-bd49-47a05675fbb8",
   "metadata": {},
   "outputs": [
    {
     "name": "stdout",
     "output_type": "stream",
     "text": [
      "[0, 'control room', nan, nan, 'an acrid odor', False, 'at the palisades nuclear plant, on june 16, 2021, at 1550 edt, with the plant in mode 1, at 100% power, operations identified an acrid odor in the control room.']\n",
      "[1, 'steam dump control relay', nan, nan, 'failed', False, 'investigation revealed that the steam dump control relay had failed, rendering all 4 atmospheric steam dump valves inoperable.']\n",
      "[2, 'atmospheric steam dump valves', nan, nan, 'inoperable', False, 'investigation revealed that the steam dump control relay had failed, rendering all 4 atmospheric steam dump valves inoperable.']\n",
      "[3, 'relay', nan, nan, 'replaced', False, 'the relay was replaced and the asdvs were returned to service.']\n",
      "[4, 'asdvs', 'return', nan, 'service', False, 'the relay was replaced and the asdvs were returned to service.']\n",
      "[5, 'control room', nan, nan, 'an acrid odor', False, 'at the palisades nuclear plant, on june 16, 2021, at 1550 edt, with the plant in mode 1, at 100% power, operators identified an acrid odor in the control room, suggesting that an electrical component may have failed.']\n",
      "[6, 'steam dump control relay', nan, nan, 'failed', False, 'investigation revealed that the steam dump control relay had failed, rendering all 4 atmospheric steam dump valves inoperable, and causing an entry into 1 24-hour shutdown action statement limiting condition for operation 3.7.4.']\n",
      "[7, 'atmospheric steam dump valves', nan, nan, 'inoperable', False, 'investigation revealed that the steam dump control relay had failed, rendering all 4 atmospheric steam dump valves inoperable, and causing an entry into 1 24-hour shutdown action statement limiting condition for operation 3.7.4.']\n",
      "[8, 'steam dump and bypass system', 'consist', nan, '4 automatically actuated asdvs', False, 'the main steam dump and bypass system consists of 4 automatically actuated asdvs which exhaust to atmosphere, and 1 turbine bypass valve which exhausts to the main condenser.']\n",
      "[9, 'asdvs', nan, nan, '4 automatically actuated', False, 'the main steam dump and bypass system consists of 4 automatically actuated asdvs which exhaust to atmosphere, and 1 turbine bypass valve which exhausts to the main condenser.']\n",
      "[10, 'turbine bypass valve', nan, nan, '4 automatically actuated', False, 'the main steam dump and bypass system consists of 4 automatically actuated asdvs which exhaust to atmosphere, and 1 turbine bypass valve which exhausts to the main condenser.']\n",
      "[11, 'main condenser', nan, nan, nan, False, 'the main steam dump and bypass system consists of 4 automatically actuated asdvs which exhaust to atmosphere, and 1 turbine bypass valve which exhausts to the main condenser.']\n",
      "[12, 'asdvs', nan, nan, 'the total capacities', False, 'the total capacities of the asdvs and turbine bypass valves are 30% and 4.5%, respectively, of steam flow with reactor at full power.']\n",
      "[13, 'turbine bypass valves', nan, nan, 'the total capacities', False, 'the total capacities of the asdvs and turbine bypass valves are 30% and 4.5%, respectively, of steam flow with reactor at full power.']\n",
      "[14, 'steam flow with reactor', nan, nan, '30% and 4.5%, respectively,', False, 'the total capacities of the asdvs and turbine bypass valves are 30% and 4.5%, respectively, of steam flow with reactor at full power.']\n",
      "[15, 'asdvs', nan, nan, 'the capacity', False, 'the capacity of the asdvs is adequate to prevent lifting of the main steam safety valves following a turbine and reactor trip.']\n",
      "[16, 'steam safety valves', nan, nan, 'lifting', True, 'the capacity of the asdvs is adequate to prevent lifting of the main steam safety valves following a turbine and reactor trip.']\n",
      "[17, 'turbine', nan, nan, nan, False, 'the capacity of the asdvs is adequate to prevent lifting of the main steam safety valves following a turbine and reactor trip.']\n",
      "[18, 'turbine', nan, 'provide', 'the bypass', False, 'the turbine bypass to the main condenser provides for removal of reactor decay heat following reactor shutdown.']\n",
      "[19, 'main condenser', nan, nan, 'the turbine bypass', False, 'the turbine bypass to the main condenser provides for removal of reactor decay heat following reactor shutdown.']\n",
      "[20, 'steam dump system', nan, 'arrange', 'automatic operation', False, 'although the steam dump system is arranged for automatic operation, the asdvs may be manually controlled from either control room or engineered safeguards control panels.']\n",
      "[21, 'asdvs', nan, nan, 'controlled', True, 'although the steam dump system is arranged for automatic operation, the asdvs may be manually controlled from either control room or engineered safeguards control panels.']\n",
      "[22, 'control room', nan, nan, nan, False, 'although the steam dump system is arranged for automatic operation, the asdvs may be manually controlled from either control room or engineered safeguards control panels.']\n",
      "[23, 'control panels', nan, nan, 'engineered safeguards', False, 'although the steam dump system is arranged for automatic operation, the asdvs may be manually controlled from either control room or engineered safeguards control panels.']\n",
      "[24, 'asdvs', nan, 'have', 'a back up nitrogen supply', False, 'the asdvs have a back up nitrogen supply to allow steam generator pressure control during station blackout.']\n",
      "[25, 'steam generator', nan, 'have', 'pressure control', True, 'the asdvs have a back up nitrogen supply to allow steam generator pressure control during station blackout.']\n",
      "[26, 'circuit', 'troubleshoot', nan, nan, False, 'troubleshooting the circuit identified that the bussmann fuse fuz im13-1, model number fnm-5, was found opened due to the steam dump control relay coil failure.']\n",
      "[27, 'fuse', nan, 'find', 'opened', False, 'troubleshooting the circuit identified that the bussmann fuse fuz im13-1, model number fnm-5, was found opened due to the steam dump control relay coil failure.']\n",
      "[28, 'im13', nan, nan, '- 1', False, 'troubleshooting the circuit identified that the bussmann fuse fuz im13-1, model number fnm-5, was found opened due to the steam dump control relay coil failure.']\n",
      "[29, 'fnm-5', nan, nan, nan, False, 'troubleshooting the circuit identified that the bussmann fuse fuz im13-1, model number fnm-5, was found opened due to the steam dump control relay coil failure.']\n",
      "[30, 'steam dump control relay coil', nan, 'identify', 'the failure', False, 'troubleshooting the circuit identified that the bussmann fuse fuz im13-1, model number fnm-5, was found opened due to the steam dump control relay coil failure.']\n",
      "[31, 'fuse', nan, nan, 'the opening', False, 'the opening of the fuse resulted in loss of power to the im13 scheme, which disabled the automatic fast open function, as well as the manual operation, of the asdvs.']\n",
      "[32, 'im13 scheme', nan, nan, 'loss of power', False, 'the opening of the fuse resulted in loss of power to the im13 scheme, which disabled the automatic fast open function, as well as the manual operation, of the asdvs.']\n",
      "[33, 'asdvs', nan, nan, 'the manual operation', False, 'the opening of the fuse resulted in loss of power to the im13 scheme, which disabled the automatic fast open function, as well as the manual operation, of the asdvs.']\n",
      "[34, 'sdcr', nan, 'find', 'signs of overheating', True, 'upon further examination, the sdcr was found to have signs of overheating.']\n",
      "[35, 'sdcr coil', nan, nan, 'the failure', False, 'the cause of the sdcr coil failure is overheating due to the age of the relay coil being beyond the vendor recommended life for a normally energized relay.']\n",
      "[36, 'relay coil', nan, nan, 'the age', False, 'the cause of the sdcr coil failure is overheating due to the age of the relay coil being beyond the vendor recommended life for a normally energized relay.']\n",
      "[37, 'relay', nan, nan, 'a normally energized', False, 'the cause of the sdcr coil failure is overheating due to the age of the relay coil being beyond the vendor recommended life for a normally energized relay.']\n",
      "[38, 'relay', nan, 'classify', 'not 2005', False, 'the subject relay was not classified properly in 2005 when all safety systems and component classifications were validated.']\n",
      "[39, 'relay', nan, nan, 'the duty cycle', False, 'the duty cycle of the relay was set at \"low duty cycle\" when it should have been \"high duty cycle\" due to the normally energized state of the relay.']\n",
      "[40, 'relay', nan, nan, 'the normally energized state', False, 'the duty cycle of the relay was set at \"low duty cycle\" when it should have been \"high duty cycle\" due to the normally energized state of the relay.']\n",
      "[41, 'relay', 'manufacture', nan, 'general electric', False, 'the relay is manufactured by general electric and is model hfa 12hfa51a49h.']\n",
      "[42, 'fuse', nan, nan, 'replaced', False, 'the fuse and relay were replaced and the asdvs were returned to service.']\n",
      "[43, 'relay', nan, nan, 'replaced', False, 'the fuse and relay were replaced and the asdvs were returned to service.']\n",
      "[44, 'asdvs', 'return', nan, 'service', False, 'the fuse and relay were replaced and the asdvs were returned to service.']\n",
      "[45, 'asdvs', 'return', nan, 'service', False, 'the elapsed time from the discovery of the failure until the asdvs were returned to service was approximately 12 hours.']\n",
      "[46, 'fuse', nan, nan, nan, False, 'fuse im13-1 opened, which disabled the automatic fast open function, as well as the manual operation, of the asdvs.']\n",
      "[47, 'im13', nan, nan, '- 1', False, 'fuse im13-1 opened, which disabled the automatic fast open function, as well as the manual operation, of the asdvs.']\n",
      "[48, 'asdvs', nan, nan, 'the manual operation', False, 'fuse im13-1 opened, which disabled the automatic fast open function, as well as the manual operation, of the asdvs.']\n",
      "[49, 'fuse', nan, nan, 'opened', False, 'the fuse opened because the sdcr relay failed due to an internal failure of the electrical coil.']\n",
      "[50, 'sdcr relay', nan, 'fail', 'an internal failure', False, 'the fuse opened because the sdcr relay failed due to an internal failure of the electrical coil.']\n",
      "[51, 'electrical coil', nan, nan, 'an internal failure', False, 'the fuse opened because the sdcr relay failed due to an internal failure of the electrical coil.']\n",
      "[52, 'relay coil', nan, nan, 'the failure', False, 'the cause of the relay coil failure is overheating due to the age of the relay coil being beyond the vendor recommended life.']\n",
      "[53, 'relay coil', nan, nan, 'the age', False, 'the cause of the relay coil failure is overheating due to the age of the relay coil being beyond the vendor recommended life.']\n",
      "[54, 'relay coil', nan, nan, 'beyond the vendor recommended life', False, 'the relay coil was beyond the vendor recommended life because the duty cycle of the relay was set at \"low duty cycle\" when it should have been \"high duty cycle\" due to the normally energized state of the relay.']\n",
      "[55, 'relay', nan, nan, 'the duty cycle', False, 'the relay coil was beyond the vendor recommended life because the duty cycle of the relay was set at \"low duty cycle\" when it should have been \"high duty cycle\" due to the normally energized state of the relay.']\n",
      "[56, 'relay', nan, nan, 'the normally energized state', False, 'the relay coil was beyond the vendor recommended life because the duty cycle of the relay was set at \"low duty cycle\" when it should have been \"high duty cycle\" due to the normally energized state of the relay.']\n",
      "[57, 'sdcr', nan, nan, 'the failure', False, 'the actual consequence of the failure of the sdcr, which was a short circuit in the relay coil, was overcurrent in the im13 circuit and opening of fuse fuz im13-1.']\n",
      "[58, 'circuit', nan, nan, nan, False, 'the actual consequence of the failure of the sdcr, which was a short circuit in the relay coil, was overcurrent in the im13 circuit and opening of fuse fuz im13-1.']\n",
      "[59, 'relay coil', nan, nan, 'a short circuit', False, 'the actual consequence of the failure of the sdcr, which was a short circuit in the relay coil, was overcurrent in the im13 circuit and opening of fuse fuz im13-1.']\n",
      "[60, 'im13 circuit', nan, nan, 'overcurrent', False, 'the actual consequence of the failure of the sdcr, which was a short circuit in the relay coil, was overcurrent in the im13 circuit and opening of fuse fuz im13-1.']\n",
      "[61, 'fuse', nan, nan, 'fuz im13', False, 'the actual consequence of the failure of the sdcr, which was a short circuit in the relay coil, was overcurrent in the im13 circuit and opening of fuse fuz im13-1.']\n",
      "[62, 'im13', nan, nan, 'opening', False, 'the actual consequence of the failure of the sdcr, which was a short circuit in the relay coil, was overcurrent in the im13 circuit and opening of fuse fuz im13-1.']\n",
      "[63, 'im13 scheme', nan, nan, 'loss of power', False, 'this resulted in loss of power to the im13 scheme, which disables the automatic fast open function of the asdvs and disables manual operation of the asdvs.']\n",
      "[64, 'asdvs', nan, nan, 'the automatic fast open function', False, 'this resulted in loss of power to the im13 scheme, which disables the automatic fast open function of the asdvs and disables manual operation of the asdvs.']\n",
      "[65, 'asdvs', nan, nan, 'manual operation', False, 'this resulted in loss of power to the im13 scheme, which disables the automatic fast open function of the asdvs and disables manual operation of the asdvs.']\n",
      "[66, 'fuse', nan, nan, 'replaced', False, 'the fuse and relay were replaced.']\n",
      "[67, 'relay', nan, nan, 'replaced', False, 'the fuse and relay were replaced.']\n",
      "[68, 'relay', nan, 'show', nan, False, 'the preventive maintenance optimization code is being revised to show the relay as high duty cycle as it is continuously energized.']\n",
      "[69, 'relay', nan, nan, 'maintenance', True, 'this action will appropriately prioritize maintenance for the relay and prevent recurrence of this failure.']\n",
      "[70, 'atmospheric steam dump valves', nan, nan, 'inoperable', False, 'atmospheric steam dump valves inoperable due to relay failure.']\n",
      "[71, 'relay', nan, nan, 'failure', False, 'atmospheric steam dump valves inoperable due to relay failure.']\n"
     ]
    }
   ],
   "source": [
    "for i in range(healthStatus.shape[0]):\n",
    "    print(list(healthStatus.iloc[i]))"
   ]
  },
  {
   "cell_type": "code",
   "execution_count": null,
   "id": "0e1f08ca-59ae-4b05-b04a-ecd037d4c064",
   "metadata": {},
   "outputs": [],
   "source": []
  }
 ],
 "metadata": {
  "kernelspec": {
   "display_name": "Python 3",
   "language": "python",
   "name": "python3"
  },
  "language_info": {
   "codemirror_mode": {
    "name": "ipython",
    "version": 3
   },
   "file_extension": ".py",
   "mimetype": "text/x-python",
   "name": "python",
   "nbconvert_exporter": "python",
   "pygments_lexer": "ipython3",
   "version": "3.9.17"
  }
 },
 "nbformat": 4,
 "nbformat_minor": 5
}
