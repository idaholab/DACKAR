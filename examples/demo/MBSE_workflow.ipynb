{
 "cells": [
  {
   "cell_type": "markdown",
   "id": "8073bcb4",
   "metadata": {},
   "source": [
    "# Import and Check of MBSE Model"
   ]
  },
  {
   "cell_type": "code",
   "execution_count": null,
   "id": "9b8df4a4",
   "metadata": {},
   "outputs": [],
   "source": [
    "import pandas as pd\n",
    "import numpy as np\n",
    "import os, sys\n",
    "\n",
    "cwd = os.getcwd()\n",
    "pathToDACKAR   = os.path.join(cwd, '..', '..', 'src')\n",
    "sys.path.append(pathToDACKAR)\n",
    "\n",
    "from dackar.utils.mbse.customMBSEparser import customMBSEobject"
   ]
  },
  {
   "cell_type": "code",
   "execution_count": null,
   "id": "ed51649d",
   "metadata": {},
   "outputs": [],
   "source": [
    "demoMbseModel = customMBSEobject('raw_data/mbse/mbse_model_nodes.csv','raw_data/mbse/mbse_model_edges.csv', path='processed_data/')"
   ]
  },
  {
   "cell_type": "code",
   "execution_count": null,
   "id": "1fa5b123",
   "metadata": {},
   "outputs": [],
   "source": [
    "demoMbseModel.printEquipmentID()\n",
    "demoMbseModel.plot('testSystem')"
   ]
  }
 ],
 "metadata": {
  "kernelspec": {
   "display_name": "dackar_libs",
   "language": "python",
   "name": "python3"
  },
  "language_info": {
   "codemirror_mode": {
    "name": "ipython",
    "version": 3
   },
   "file_extension": ".py",
   "mimetype": "text/x-python",
   "name": "python",
   "nbconvert_exporter": "python",
   "pygments_lexer": "ipython3",
   "version": "3.11.8"
  }
 },
 "nbformat": 4,
 "nbformat_minor": 5
}
