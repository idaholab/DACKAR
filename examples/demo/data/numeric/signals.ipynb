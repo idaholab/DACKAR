{
 "cells": [
  {
   "cell_type": "code",
   "execution_count": 1,
   "metadata": {},
   "outputs": [],
   "source": [
    "import numpy as np\n",
    "import pandas as pd\n",
    "from scipy import signal as sig\n",
    "import matplotlib.pyplot as plt\n",
    "from signalProfiles import binaryProfile, impulse, yearProfile\n",
    "\n",
    "np.random.seed(0)"
   ]
  },
  {
   "cell_type": "code",
   "execution_count": null,
   "metadata": {},
   "outputs": [
    {
     "ename": "NameError",
     "evalue": "name 'offsetVar' is not defined",
     "output_type": "error",
     "traceback": [
      "\u001b[0;31m---------------------------------------------------------------------------\u001b[0m",
      "\u001b[0;31mNameError\u001b[0m                                 Traceback (most recent call last)",
      "Cell \u001b[0;32mIn[4], line 9\u001b[0m\n\u001b[1;32m      7\u001b[0m data[\u001b[38;5;241m1500\u001b[39m:\u001b[38;5;241m2000\u001b[39m] \u001b[38;5;241m=\u001b[39m binaryProfile(ampAnomaly\u001b[38;5;241m=\u001b[39m\u001b[38;5;241m.5\u001b[39m) \n\u001b[1;32m      8\u001b[0m data[\u001b[38;5;241m2000\u001b[39m:\u001b[38;5;241m2500\u001b[39m] \u001b[38;5;241m=\u001b[39m binaryProfile(nullLoc\u001b[38;5;241m=\u001b[39m\u001b[38;5;241m100\u001b[39m, nullDur\u001b[38;5;241m=\u001b[39m\u001b[38;5;241m50\u001b[39m)\n\u001b[0;32m----> 9\u001b[0m data[\u001b[38;5;241m2500\u001b[39m:\u001b[38;5;241m3000\u001b[39m] \u001b[38;5;241m=\u001b[39m binaryProfile(\u001b[43moffsetVar\u001b[49m\u001b[38;5;241m==\u001b[39m\u001b[38;5;241m.2\u001b[39m)\n\u001b[1;32m     11\u001b[0m fig, ax \u001b[38;5;241m=\u001b[39m plt\u001b[38;5;241m.\u001b[39msubplots(figsize\u001b[38;5;241m=\u001b[39m(\u001b[38;5;241m16\u001b[39m, \u001b[38;5;241m6\u001b[39m))\n\u001b[1;32m     12\u001b[0m plt\u001b[38;5;241m.\u001b[39mplot(time, data)\n",
      "\u001b[0;31mNameError\u001b[0m: name 'offsetVar' is not defined"
     ]
    }
   ],
   "source": [
    "time =  np.linspace(0, 10, 3000, endpoint=False)\n",
    "data = np.zeros(3000)\n",
    "\n",
    "data[0:500]     = binaryProfile(impLoc=300,    impVal=.2)\n",
    "data[500:1000]  = binaryProfile(freqFact=2.)\n",
    "data[1000:1500] = binaryProfile(sigmaAnomaly=.15)\n",
    "data[1500:2000] = binaryProfile(ampAnomaly=.5) \n",
    "data[2000:2500] = binaryProfile(nullLoc=100, nullDur=50)\n",
    "data[2500:3000] = binaryProfile(offsetVar=.2)\n",
    "\n",
    "fig, ax = plt.subplots(figsize=(16, 6))\n",
    "plt.plot(time, data)\n",
    "\n",
    "coeff = 10/3000\n",
    "\n",
    "ax.axvspan(coeff*299,  coeff*301,  alpha=0.2, color='red')\n",
    "ax.axvspan(coeff*505,  coeff*995,  alpha=0.2, color='red')\n",
    "ax.axvspan(coeff*1005, coeff*1495, alpha=0.2, color='red')\n",
    "ax.axvspan(coeff*1505, coeff*1995, alpha=0.2, color='red')\n",
    "ax.axvspan(coeff*2100, coeff*2150, alpha=0.2, color='red')\n",
    "ax.axvspan(coeff*2505, coeff*2995, alpha=0.2, color='red')\n",
    "\n",
    "plt.xlabel('time [min]')\n",
    "plt.ylabel('$s_2$')\n",
    "plt.show()"
   ]
  },
  {
   "cell_type": "code",
   "execution_count": null,
   "metadata": {},
   "outputs": [],
   "source": [
    "time =  np.linspace(0, 10, 1200, endpoint=False)\n",
    "data = np.zeros(1200)\n",
    "\n",
    "data[0:200]     = impulse(fc=5,  bw=.2)\n",
    "data[200:400]   = impulse(fc=15, bw=.2)\n",
    "data[400:600]   = impulse(fc=5,  bw=.2, offset= .4)\n",
    "data[600:800]   = impulse(fc=5,  bw=.2, impLoc= 60, impVal=0.5) \n",
    "data[800:1000]  = impulse(fc=5,  bw=.2, noiseLoc=30, noiseDur=60)\n",
    "data[1000:1200] = impulse(fc=5,  bw=.2, nullLoc=90,  nullDur=10)\n",
    "\n",
    "\n",
    "fig, ax = plt.subplots(figsize=(16, 6))\n",
    "plt.plot(time, data)\n",
    "\n",
    "ax.axvspan(250/120, 350/120,         alpha=0.2, color='red')\n",
    "ax.axvspan(400/120, 600/120,         alpha=0.2, color='red')\n",
    "ax.axvspan((660-1)/120, (660+1)/120, alpha=0.2, color='red')\n",
    "ax.axvspan(830/120, 890/120,         alpha=0.2, color='red')\n",
    "ax.axvspan(1090/120, 1100/120,       alpha=0.2, color='red')\n",
    "\n",
    "plt.xlabel('time [min]')\n",
    "plt.ylabel('$s_2$')\n",
    "plt.ylim(-1.5, 1.5)\n",
    "plt.show()"
   ]
  },
  {
   "cell_type": "code",
   "execution_count": null,
   "metadata": {},
   "outputs": [],
   "source": [
    "signal = yearProfile(noiseLoc=40, noiseDur=20)\n",
    "\n",
    "time =  np.linspace(0, 6, 365*6, endpoint=False)\n",
    "data = np.zeros(365*6)\n",
    "\n",
    "data[0:365]       = yearProfile()\n",
    "data[365:365*2]   = yearProfile(impLoc=300, impFac=1.7)\n",
    "data[365*2:365*3] = yearProfile(freezeLoc=140, freezeDur=6)\n",
    "data[365*3:365*4] = yearProfile(offsetLoc=140, offsetDur=10)\n",
    "data[365*4:365*5] = yearProfile(noiseLoc=40, noiseDur=20)\n",
    "data[365*5:365*6] = yearProfile(driftLoc=10,  driftDur=110, driftFact=500)\n",
    "\n",
    "fig, ax = plt.subplots(figsize=(16, 6))\n",
    "plt.plot(time, data)\n",
    "ax.axvspan((365+300-1)/365, (365+300+1)/365, alpha=0.2, color='red')\n",
    "ax.axvspan((365*2+140)/365, (365*2+140+6)/365, alpha=0.2, color='red')\n",
    "ax.axvspan((365*3+140)/365, (365*3+140+10)/365, alpha=0.2, color='red')\n",
    "ax.axvspan((365*4+40)/365, (365*4+40+20)/365, alpha=0.2, color='red')\n",
    "ax.axvspan((365*5+10)/365, (365*5+10+110)/365, alpha=0.2, color='red')\n",
    "\n",
    "plt.show()\n"
   ]
  }
 ],
 "metadata": {
  "kernelspec": {
   "display_name": "myenv",
   "language": "python",
   "name": "python3"
  },
  "language_info": {
   "codemirror_mode": {
    "name": "ipython",
    "version": 3
   },
   "file_extension": ".py",
   "mimetype": "text/x-python",
   "name": "python",
   "nbconvert_exporter": "python",
   "pygments_lexer": "ipython3",
   "version": "3.12.3"
  }
 },
 "nbformat": 4,
 "nbformat_minor": 2
}
