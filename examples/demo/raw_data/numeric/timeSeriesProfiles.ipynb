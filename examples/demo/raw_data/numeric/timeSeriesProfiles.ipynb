{
 "cells": [
  {
   "cell_type": "markdown",
   "id": "6e0f6dd1",
   "metadata": {},
   "source": [
    "# Generate Monitoring Data for the Considered Equipment in Form of Time-Series"
   ]
  },
  {
   "cell_type": "code",
   "execution_count": null,
   "id": "25ddca4b",
   "metadata": {},
   "outputs": [],
   "source": [
    "import numpy as np\n",
    "import pandas as pd\n",
    "from datetime import date\n",
    "from scipy import signal as sig\n",
    "import matplotlib.pyplot as plt\n",
    "from signalProfiles import binaryProfile, impulse, yearProfile\n",
    "\n",
    "np.random.seed(0)"
   ]
  },
  {
   "cell_type": "code",
   "execution_count": null,
   "id": "bd071b64",
   "metadata": {},
   "outputs": [],
   "source": [
    "startDate = date(2020,  1,  1)\n",
    "endDate   = date(2024, 12, 31)\n",
    "\n",
    "time_F =  np.linspace(0, 365*9, 365*9, endpoint=False)\n",
    "data_F1 = np.zeros(365*9)\n",
    "data_F2 = np.zeros(365*9)"
   ]
  },
  {
   "cell_type": "markdown",
   "id": "c522d3a3",
   "metadata": {},
   "source": [
    "## Data for F1"
   ]
  },
  {
   "cell_type": "code",
   "execution_count": null,
   "id": "b9a4efa0",
   "metadata": {},
   "outputs": [],
   "source": [
    "data_F1[0:365]       = yearProfile()\n",
    "data_F1[365:365*2]   = yearProfile(offsetLoc=70, offsetDur=30)\n",
    "data_F1[365*2:365*3] = yearProfile()\n",
    "data_F1[365*3:365*4] = yearProfile(impLoc=180, impFac=5.0)\n",
    "data_F1[365*4:365*5] = yearProfile()\n",
    "data_F1[365*5:365*6] = yearProfile(driftLoc=10,  driftDur=80, driftFact=100)\n",
    "data_F1[365*6:365*7] = yearProfile()\n",
    "data_F1[365*7:365*8] = yearProfile(freezeLoc=140, freezeDur=30)\n",
    "data_F1[365*8:365*9] = yearProfile()\n",
    "\n",
    "fig, ax = plt.subplots(figsize=(16, 6))\n",
    "plt.plot(time_F, data_F1)\n",
    "ax.axvspan(365+70,    365+70+30,    alpha=0.2, color='red')\n",
    "ax.axvspan(365*3+179, 365*3+181,    alpha=0.2, color='red')\n",
    "ax.axvspan(365*5+10,  365*5+10+80,  alpha=0.2, color='red')\n",
    "ax.axvspan(365*7+140, 365*7+140+30, alpha=0.2, color='red')\n",
    "\n",
    "time_index_F = pd.date_range(start=startDate, end=endDate, periods=365*9)\n",
    "F1_df = pd.DataFrame(data_F1, index=time_index_F)\n",
    "\n",
    "plt.xlabel('time')\n",
    "plt.ylabel('Filter 1 (F1)')\n",
    "plt.show()\n",
    "\n",
    "print(time_index_F[365+70], time_index_F[365+70+30])\n",
    "print(time_index_F[365*3+179], time_index_F[365*3+181])\n",
    "print(time_index_F[365*5+10], time_index_F[365*5+10+80])\n",
    "print(time_index_F[365*7+140], time_index_F[365*7+140+30])"
   ]
  },
  {
   "cell_type": "markdown",
   "id": "0356b998",
   "metadata": {},
   "source": [
    "## Data for F2"
   ]
  },
  {
   "cell_type": "code",
   "execution_count": null,
   "id": "b1d082f3",
   "metadata": {},
   "outputs": [],
   "source": [
    "data_F2[0:365]       = yearProfile(impLoc=100, impFac=1.4)\n",
    "data_F2[365:365*2]   = yearProfile()\n",
    "data_F2[365*2:365*3] = yearProfile(freezeLoc=140, freezeDur=30)\n",
    "data_F2[365*3:365*4] = yearProfile()\n",
    "data_F2[365*4:365*5] = yearProfile(driftLoc=10,  driftDur=80, driftFact=100)\n",
    "data_F2[365*5:365*6] = yearProfile()\n",
    "data_F2[365*6:365*7] = yearProfile(freezeLoc=140, freezeDur=30)\n",
    "data_F2[365*7:365*8] = yearProfile()\n",
    "data_F2[365*8:365*9] = yearProfile()\n",
    "\n",
    "fig, ax = plt.subplots(figsize=(16, 6))\n",
    "plt.plot(time_F, data_F2)\n",
    "ax.axvspan(100-1, 100+1, alpha=0.2, color='red')\n",
    "ax.axvspan(365*2+140, 365*2+140+30, alpha=0.2, color='red')\n",
    "ax.axvspan(365*4+10, 365*4+10+80, alpha=0.2, color='red')\n",
    "ax.axvspan(365*6+140, 365*6+140+30, alpha=0.2, color='red')\n",
    "\n",
    "print(time_index_F[100-1], ',', time_index_F[100+1])\n",
    "print(time_index_F[365*2+140], ',', time_index_F[365*2+140+30])\n",
    "print(time_index_F[365*4+10], ',', time_index_F[365*4+10+80])\n",
    "print(time_index_F[365*6+140], ',', time_index_F[365*6+140+30])\n",
    "\n",
    "F2_df = pd.DataFrame(data_F2, index=time_index_F)\n",
    "\n",
    "plt.xlabel('time')\n",
    "plt.ylabel('Filter 2 (F2)')\n",
    "plt.show()"
   ]
  },
  {
   "cell_type": "markdown",
   "id": "f27ee3bf",
   "metadata": {},
   "source": [
    "## Data for V1"
   ]
  },
  {
   "cell_type": "code",
   "execution_count": null,
   "id": "acd3ce3d",
   "metadata": {},
   "outputs": [],
   "source": [
    "data_V1 = np.zeros(2000)\n",
    "time_V =  np.linspace(0, 2000, 2000, endpoint=False)\n",
    "\n",
    "data_V1[0:200]        = impulse(fc=5,  bw=.2)\n",
    "data_V1[200:200*2]    = impulse(fc=5,  bw=.2, nullLoc=90,  nullDur=10)\n",
    "data_V1[200*2:200*3]  = impulse(fc=5,  bw=.2)\n",
    "data_V1[200*3:200*4]  = impulse(fc=15, bw=.2)\n",
    "data_V1[200*4:200*5]  = impulse(fc=5,  bw=.2)\n",
    "data_V1[200*5:200*6]  = impulse(fc=5,  bw=.2)\n",
    "data_V1[200*6:200*7]  = impulse(fc=5,  bw=.2, impLoc= 60, impVal=0.5) \n",
    "data_V1[200*7:200*8]  = impulse(fc=5,  bw=.2)\n",
    "data_V1[200*8:200*9]  = impulse(fc=5,  bw=.2, offset= .4)\n",
    "data_V1[200*9:200*10] = impulse(fc=5,  bw=.2)\n",
    "\n",
    "time_index_V = pd.date_range(start=startDate, end=endDate, periods=2000)\n",
    "V1_df = pd.DataFrame(data_V1, index=time_index_V)\n",
    "\n",
    "print(time_index_V[200+90], ',', time_index_V[200+90+10])\n",
    "print(time_index_V[200*3], ',', time_index_V[200*4])\n",
    "print(time_index_V[200*6+59], ',', time_index_V[200*6+61])\n",
    "print(time_index_V[200*8], ',', time_index_V[200*9])\n",
    "\n",
    "fig, ax = plt.subplots(figsize=(16, 6))\n",
    "plt.plot(time_V, data_V1)\n",
    "\n",
    "ax.axvspan(200+90, 200+90+10, alpha=0.2, color='red')\n",
    "ax.axvspan(200*3, 200*4, alpha=0.2, color='red')\n",
    "ax.axvspan(200*6+59, 200*6+61, alpha=0.2, color='red')\n",
    "ax.axvspan(200*8, 200*9, alpha=0.2, color='red')\n",
    "\n",
    "plt.xlabel('time')\n",
    "plt.ylabel('Valve 1 (V1)')\n",
    "plt.show()\n"
   ]
  },
  {
   "cell_type": "markdown",
   "id": "70281e67",
   "metadata": {},
   "source": [
    "## Data for V2"
   ]
  },
  {
   "cell_type": "code",
   "execution_count": null,
   "id": "61e84ae6",
   "metadata": {},
   "outputs": [],
   "source": [
    "data_V2 = np.zeros(2000)\n",
    "\n",
    "data_V2[0:200]        = impulse(fc=5,  bw=.2)\n",
    "data_V2[200:200*2]    = impulse(fc=5,  bw=.2)\n",
    "data_V2[200*2:200*3]  = impulse(fc=5,  bw=.2, impLoc= 60, impVal=0.5) \n",
    "data_V2[200*3:200*4]  = impulse(fc=5,  bw=.2)\n",
    "data_V2[200*4:200*5]  = impulse(fc=5,  bw=.2, noiseLoc=30, noiseDur=60)\n",
    "data_V2[200*5:200*6]  = impulse(fc=5,  bw=.2)\n",
    "data_V2[200*6:200*7]  = impulse(fc=5,  bw=.2)\n",
    "data_V2[200*7:200*8]  = impulse(fc=5,  bw=.4)\n",
    "data_V2[200*8:200*9]  = impulse(fc=5,  bw=.2)\n",
    "data_V2[200*9:200*10] = impulse(fc=5,  bw=.2)\n",
    "\n",
    "V2_df = pd.DataFrame(data_V2, index=time_index_V)\n",
    "\n",
    "print(time_index_V[200*2+59], ',', time_index_V[200*2+61])\n",
    "print(time_index_V[200*4+30], ',', time_index_V[200*4+30+60])\n",
    "print(time_index_V[200*7],    ',', time_index_V[200*8])\n",
    "\n",
    "fig, ax = plt.subplots(figsize=(16, 6))\n",
    "plt.plot(time_V, data_V2)\n",
    "\n",
    "ax.axvspan(200*2+59, 200*2+61, alpha=0.2, color='red')\n",
    "ax.axvspan(200*4+30, 200*4+30+60, alpha=0.2, color='red')\n",
    "ax.axvspan(200*7, 200*8, alpha=0.2, color='red')\n",
    "\n",
    "plt.xlabel('time')\n",
    "plt.ylabel('Valve 2 (V2)')\n",
    "plt.show()\n"
   ]
  },
  {
   "cell_type": "markdown",
   "id": "d61982c1",
   "metadata": {},
   "source": [
    "## Data for P1"
   ]
  },
  {
   "cell_type": "code",
   "execution_count": null,
   "id": "b2049528",
   "metadata": {},
   "outputs": [],
   "source": [
    "data_P1 = np.zeros(3800)\n",
    "time_P1 =  np.linspace(0, 3800, 3800)\n",
    "\n",
    "data_P1[0:500]     = binaryProfile()\n",
    "data_P1[500:1000]  = binaryProfile(impLoc=300, impVal=.4)\n",
    "data_P1[1000:1500] = binaryProfile() \n",
    "data_P1[1500:1600] = binaryProfile(freqFact=2.)[0:100]\n",
    "data_P1[1600:2100] = binaryProfile()\n",
    "data_P1[2100:2200] = binaryProfile(sigmaAnomaly=.15)[0:100]\n",
    "data_P1[2200:2700] = binaryProfile()\n",
    "data_P1[2700:2800] = binaryProfile(ampAnomaly=.5)[0:100]\n",
    "data_P1[2800:3300] = binaryProfile()\n",
    "data_P1[3300:3800] = binaryProfile()\n",
    "\n",
    "time_index_P = pd.date_range(start=startDate, end=endDate, periods=3800)\n",
    "P1_df = pd.DataFrame(data_P1, index=time_index_P)\n",
    "\n",
    "print(time_index_P[500+299], ',', time_index_P[500+301])\n",
    "print(time_index_P[1500],    ',', time_index_P[1600])\n",
    "print(time_index_P[2100],    ',', time_index_P[2200])\n",
    "print(time_index_P[2700],    ',', time_index_P[2800])\n",
    "\n",
    "fig, ax = plt.subplots(figsize=(16, 6))\n",
    "plt.plot(time_P1, data_P1)\n",
    "\n",
    "ax.axvspan(500+299, 500+301, alpha=0.2, color='red')\n",
    "ax.axvspan(1500, 1600, alpha=0.2, color='red')\n",
    "ax.axvspan(2100, 2200, alpha=0.2, color='red')\n",
    "ax.axvspan(2700, 2800, alpha=0.2, color='red')\n",
    "\n",
    "plt.xlabel('time')\n",
    "plt.ylabel('Pump 2 (P2)')\n",
    "plt.show()\n"
   ]
  },
  {
   "cell_type": "code",
   "execution_count": null,
   "id": "11e5af54",
   "metadata": {},
   "outputs": [],
   "source": [
    "data_P2 = np.zeros(3800)\n",
    "time_P2 =  np.linspace(0, 3800, 3800)\n",
    "\n",
    "data_P2[0:500]     = binaryProfile()\n",
    "data_P2[500:1000]  = binaryProfile(nullLoc=100, nullDur=50)\n",
    "data_P2[1000:1500] = binaryProfile()\n",
    "data_P2[1500:2000] = binaryProfile()\n",
    "data_P2[2000:2100] = binaryProfile(ampAnomaly=.5)[0:100] \n",
    "data_P2[2100:2600] = binaryProfile()\n",
    "data_P2[2600:2700] = binaryProfile(offsetVar=.2)[0:100]\n",
    "data_P2[2700:3200] = binaryProfile()\n",
    "data_P2[3200:3300] = binaryProfile(freqFact=2.)[0:100]\n",
    "data_P2[3300:3800] = binaryProfile()\n",
    "\n",
    "P2_df = pd.DataFrame(data_P2, index=time_index_P)\n",
    "\n",
    "print(time_index_P[500+100], ',', time_index_P[500+100+50])\n",
    "print(time_index_P[2000],    ',', time_index_P[2100])\n",
    "print(time_index_P[2600],    ',', time_index_P[2700])\n",
    "print(time_index_P[3200],    ',', time_index_P[3300])\n",
    "\n",
    "fig, ax = plt.subplots(figsize=(16, 6))\n",
    "plt.plot(time_P2, data_P2)\n",
    "\n",
    "ax.axvspan(500+100, 500+100+50, alpha=0.2, color='red')\n",
    "ax.axvspan(2000, 2100, alpha=0.2, color='red')\n",
    "ax.axvspan(2600, 2700, alpha=0.2, color='red')\n",
    "ax.axvspan(3200, 3300, alpha=0.2, color='red')\n",
    "\n",
    "plt.xlabel('time')\n",
    "plt.ylabel('Pump 2 (P2)')\n",
    "plt.show()"
   ]
  },
  {
   "cell_type": "markdown",
   "id": "ab41be1e",
   "metadata": {},
   "source": [
    "## Save data to files"
   ]
  },
  {
   "cell_type": "code",
   "execution_count": null,
   "id": "df059d5b",
   "metadata": {},
   "outputs": [],
   "source": [
    "F1_df.to_csv('F1_df.csv')\n",
    "F2_df.to_csv('F2_df.csv')\n",
    "V1_df.to_csv('V1_df.csv')\n",
    "V2_df.to_csv('V2_df.csv')\n",
    "P1_df.to_csv('P1_df.csv')\n",
    "P2_df.to_csv('P2_df.csv')"
   ]
  }
 ],
 "metadata": {
  "kernelspec": {
   "display_name": "dackar_libs",
   "language": "python",
   "name": "python3"
  },
  "language_info": {
   "codemirror_mode": {
    "name": "ipython",
    "version": 3
   },
   "file_extension": ".py",
   "mimetype": "text/x-python",
   "name": "python",
   "nbconvert_exporter": "python",
   "pygments_lexer": "ipython3",
   "version": "3.11.8"
  }
 },
 "nbformat": 4,
 "nbformat_minor": 5
}
