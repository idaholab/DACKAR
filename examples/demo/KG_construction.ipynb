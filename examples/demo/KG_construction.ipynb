{
 "cells": [
  {
   "cell_type": "markdown",
   "metadata": {},
   "source": [
    "# KG construction"
   ]
  },
  {
   "cell_type": "code",
   "execution_count": null,
   "metadata": {},
   "outputs": [],
   "source": [
    "import os, sys\n",
    "import re\n",
    "# Settings #\n",
    "cwd = os.getcwd()\n",
    "frameworkDir = os.path.abspath(os.path.join(cwd, os.pardir, os.pardir, 'src'))\n",
    "print(frameworkDir)\n",
    "sys.path.append(frameworkDir)\n",
    "#######################\n",
    "# Internal Modules #\n",
    "from dackar.knowledge_graph.py2neo import Py2Neo\n",
    "from dackar.knowledge_graph.graph_utils import set_neo4j_import_folder\n",
    "\n",
    "#MATCH (n) DETACH DELETE n\n",
    "#MATCH (n) RETURN n\n"
   ]
  },
  {
   "cell_type": "markdown",
   "metadata": {},
   "source": [
    "## Set import folder path for neo4j and create python to neo4j driver"
   ]
  },
  {
   "cell_type": "code",
   "execution_count": null,
   "metadata": {},
   "outputs": [],
   "source": [
    "# Change import folder to user specific location\n",
    "config_file_path   = \"/Users/mandd/Library/Application Support/Neo4j Desktop/Application/relate-data/dbmss/dbms-666d9aa2-b0c5-4903-9f08-1cad30136945/conf/neo4j.conf\"\n",
    "import_folder_path = \"/Users/mandd/projects/DACKAR/examples/demo/\"\n",
    "\n",
    "set_neo4j_import_folder(config_file_path, import_folder_path)\n",
    "\n",
    "# Create python to neo4j driver\n",
    "uri = \"bolt://localhost:7687\" \n",
    "pwd = \"123456789\" \n",
    "\n",
    "py2neo = Py2Neo(uri=uri, user='neo4j', pwd=pwd)"
   ]
  },
  {
   "cell_type": "markdown",
   "metadata": {},
   "source": [
    "## Load MBSE nodes and edges via functions"
   ]
  },
  {
   "cell_type": "markdown",
   "metadata": {},
   "source": [
    "### Load MBSE model node data"
   ]
  },
  {
   "cell_type": "code",
   "execution_count": null,
   "metadata": {},
   "outputs": [],
   "source": [
    "py2neo.reset()\n",
    "file_path = 'processed_data/mbse_model_nodes_kg.csv'\n",
    "label = 'MBSE'\n",
    "attribute = {'ID':'ID', 'type':'type'}\n",
    "py2neo.load_csv_for_nodes(file_path, label, attribute)"
   ]
  },
  {
   "cell_type": "markdown",
   "metadata": {},
   "source": [
    "### Load MBSE model relationship data"
   ]
  },
  {
   "cell_type": "code",
   "execution_count": null,
   "metadata": {},
   "outputs": [],
   "source": [
    "file_path = 'processed_data/mbse_model_edges_kg.csv'\n",
    "l1='MBSE'\n",
    "p1={'ID':'sourceNodeId'}\n",
    "l2='MBSE'\n",
    "p2 ={'ID':'targetNodeId'}\n",
    "lr = 'MBSE_link'\n",
    "pr = {'prop':'type'}\n",
    "py2neo.load_csv_for_relations(file_path, l1, p1, l2, p2, lr, pr)"
   ]
  },
  {
   "cell_type": "markdown",
   "metadata": {},
   "source": [
    "### Load monitoring data"
   ]
  },
  {
   "cell_type": "code",
   "execution_count": null,
   "metadata": {},
   "outputs": [],
   "source": [
    "file_path = 'raw_data/monit_vars_equip_map.csv'\n",
    "label = 'monitored_var'\n",
    "attribute = {'ID':'varID'}\n",
    "py2neo.load_csv_for_nodes(file_path, label, attribute)"
   ]
  },
  {
   "cell_type": "markdown",
   "metadata": {},
   "source": [
    "### Load monitoring relationship data and link to MBSE model data"
   ]
  },
  {
   "cell_type": "code",
   "execution_count": null,
   "metadata": {},
   "outputs": [],
   "source": [
    "file_path = 'raw_data/monit_vars_equip_map.csv'\n",
    "l1='monitored_var'\n",
    "p1={'ID':'varID'}\n",
    "l2='MBSE'\n",
    "p2 ={'ID':'equip_ID'}\n",
    "lr = 'monitors'\n",
    "pr = None\n",
    "py2neo.load_csv_for_relations(file_path, l1, p1, l2, p2, lr, pr)"
   ]
  },
  {
   "cell_type": "markdown",
   "metadata": {},
   "source": [
    "### Load anomalies"
   ]
  },
  {
   "cell_type": "code",
   "execution_count": null,
   "metadata": {},
   "outputs": [],
   "source": [
    "file_path = 'raw_data/numeric/anomalies.csv'\n",
    "label = 'anomaly'\n",
    "attribute = {'ID':'ID', 'time_initial':'start_date', 'time_final':'end_date'}\n",
    "py2neo.load_csv_for_nodes(file_path, label, attribute)"
   ]
  },
  {
   "cell_type": "markdown",
   "metadata": {},
   "source": [
    "### Load anomalies relation data and link to anomaly detection method"
   ]
  },
  {
   "cell_type": "code",
   "execution_count": null,
   "metadata": {},
   "outputs": [],
   "source": [
    "file_path = 'raw_data/numeric/anomalies.csv'\n",
    "l1='anomaly'\n",
    "p1={'ID':'ID'}\n",
    "l2='monitored_var'\n",
    "p2 ={'ID':'monitored_variable'}\n",
    "lr = 'detected_by'\n",
    "pr = None\n",
    "py2neo.load_csv_for_relations(file_path, l1, p1, l2, p2, lr, pr)"
   ]
  },
  {
   "cell_type": "markdown",
   "metadata": {},
   "source": [
    "### Load events: F"
   ]
  },
  {
   "cell_type": "code",
   "execution_count": null,
   "metadata": {},
   "outputs": [],
   "source": [
    "# Nodes\n",
    "file_path = 'processed_data/CR_F_nodes.csv'\n",
    "label = 'event'\n",
    "attribute = {'ID':'Report_ID', 'Risk':'Risk_Impact'}\n",
    "py2neo.load_csv_for_nodes(file_path, label, attribute)\n",
    "\n",
    "file_path = 'processed_data/entities_F_nodes.csv'\n",
    "label = 'entity'\n",
    "attribute = {'ID':'entities'}\n",
    "py2neo.load_csv_for_nodes(file_path, label, attribute)\n",
    "\n",
    "# Edges\n",
    "file_path = 'processed_data/F_edges_ent.csv'\n",
    "l1 = 'event'\n",
    "p1 = {'ID':'orig'}\n",
    "l2 = 'entity'\n",
    "p2 = {'ID':'dest'}\n",
    "lr = 'mentions'\n",
    "pr = {'prop':'attribute'}\n",
    "py2neo.load_csv_for_relations(file_path, l1, p1, l2, p2, lr, pr)\n",
    "\n",
    "file_path = 'processed_data/F_edges_id.csv'\n",
    "l1 = 'MBSE'\n",
    "p1 = {'ID':'orig'}\n",
    "l2 = 'event'\n",
    "p2 = {'ID':'dest'}\n",
    "lr = 'refers'\n",
    "py2neo.load_csv_for_relations(file_path, l1, p1, l2, p2, lr)\n"
   ]
  },
  {
   "cell_type": "markdown",
   "metadata": {},
   "source": [
    "### Load events: HX"
   ]
  },
  {
   "cell_type": "code",
   "execution_count": null,
   "metadata": {},
   "outputs": [],
   "source": [
    "# Nodes\n",
    "file_path = 'processed_data/CR_HX_nodes.csv'\n",
    "label = 'event'\n",
    "attribute = {'ID':'Report_ID', 'date': 'date'}\n",
    "py2neo.load_csv_for_nodes(file_path, label, attribute)\n",
    "\n",
    "file_path = 'processed_data/entities_HX_nodes.csv'\n",
    "label = 'entity'\n",
    "attribute = {'ID':'entities'}\n",
    "py2neo.load_csv_for_nodes(file_path, label, attribute)\n",
    "\n",
    "# Edges\n",
    "file_path = 'processed_data/HX_edges_ent.csv'\n",
    "l1 = 'event'\n",
    "p1 = {'ID':'orig'}\n",
    "l2 = 'entity'\n",
    "p2 = {'ID':'dest'}\n",
    "lr = 'mentions'\n",
    "pr = {'prop':'attribute'}\n",
    "py2neo.load_csv_for_relations(file_path, l1, p1, l2, p2, lr, pr)\n",
    "\n",
    "file_path = 'processed_data/HX_edges_id.csv'\n",
    "l1 = 'MBSE'\n",
    "p1 = {'ID':'orig'}\n",
    "l2 = 'event'\n",
    "p2 = {'ID':'dest'}\n",
    "lr = 'refers'\n",
    "py2neo.load_csv_for_relations(file_path, l1, p1, l2, p2, lr)"
   ]
  },
  {
   "cell_type": "markdown",
   "metadata": {},
   "source": [
    "### Load events: P1"
   ]
  },
  {
   "cell_type": "code",
   "execution_count": null,
   "metadata": {},
   "outputs": [],
   "source": [
    "# Nodes\n",
    "file_path = 'processed_data/CR_P1_nodes.csv'\n",
    "label = 'event'\n",
    "attribute = {'ID':'ID', 'date':'date'}\n",
    "py2neo.load_csv_for_nodes(file_path, label, attribute)\n",
    "\n",
    "file_path = 'processed_data/entities_P1_nodes.csv'\n",
    "label = 'entity'\n",
    "attribute = {'ID':'entities'}\n",
    "py2neo.load_csv_for_nodes(file_path, label, attribute)\n",
    "\n",
    "# Edges\n",
    "file_path = 'processed_data/P1_edges_ent.csv'\n",
    "l1 = 'event'\n",
    "p1 = {'ID':'orig'}\n",
    "l2 = 'entity'\n",
    "p2 = {'ID':'dest'}\n",
    "lr = 'mentions'\n",
    "py2neo.load_csv_for_relations(file_path, l1, p1, l2, p2, lr)\n",
    "\n",
    "file_path = 'processed_data/P1_edges_id.csv'\n",
    "l1 = 'event'\n",
    "p1 = {'ID':'orig'}\n",
    "l2 = 'MBSE'\n",
    "p2 = {'ID':'dest'}\n",
    "lr = 'refers'\n",
    "py2neo.load_csv_for_relations(file_path, l1, p1, l2, p2, lr)"
   ]
  },
  {
   "cell_type": "markdown",
   "metadata": {},
   "source": [
    "### Load events: P1"
   ]
  },
  {
   "cell_type": "code",
   "execution_count": null,
   "metadata": {},
   "outputs": [],
   "source": [
    "# Nodes\n",
    "file_path = 'processed_data/CR_P2_nodes.csv'\n",
    "label = 'event'\n",
    "attribute = {'ID':'ID', 'date':'date'}\n",
    "py2neo.load_csv_for_nodes(file_path, label, attribute)\n",
    "\n",
    "file_path = 'processed_data/entities_P2_nodes.csv'\n",
    "label = 'entity'\n",
    "attribute = {'ID':'entities'}\n",
    "py2neo.load_csv_for_nodes(file_path, label, attribute)\n",
    "\n",
    "# Edges\n",
    "file_path = 'processed_data/P2_edges_ent.csv'\n",
    "l1 = 'event'\n",
    "p1 = {'ID':'orig'}\n",
    "l2 = 'entity'\n",
    "p2 = {'ID':'dest'}\n",
    "lr = 'mentions'\n",
    "py2neo.load_csv_for_relations(file_path, l1, p1, l2, p2, lr)\n",
    "\n",
    "file_path = 'processed_data/P2_edges_id.csv'\n",
    "l1 = 'event'\n",
    "p1 = {'ID':'orig'}\n",
    "l2 = 'MBSE'\n",
    "p2 = {'ID':'dest'}\n",
    "lr = 'refers'\n",
    "py2neo.load_csv_for_relations(file_path, l1, p1, l2, p2, lr)"
   ]
  },
  {
   "cell_type": "markdown",
   "metadata": {},
   "source": [
    "### Load events: V1"
   ]
  },
  {
   "cell_type": "code",
   "execution_count": null,
   "metadata": {},
   "outputs": [],
   "source": [
    "# Nodes\n",
    "file_path = 'processed_data/CR_V1_nodes.csv'\n",
    "label = 'event'\n",
    "attribute = {'ID':'ID', 'date':'date'}\n",
    "py2neo.load_csv_for_nodes(file_path, label, attribute)\n",
    "\n",
    "file_path = 'processed_data/entities_V1_nodes.csv'\n",
    "label = 'entity'\n",
    "attribute = {'ID':'entities'}\n",
    "py2neo.load_csv_for_nodes(file_path, label, attribute)\n",
    "\n",
    "# Edges\n",
    "file_path = 'processed_data/V1_edges_ent.csv'\n",
    "l1 = 'event'\n",
    "p1 = {'ID':'orig'}\n",
    "l2 = 'entity'\n",
    "p2 = {'ID':'dest'}\n",
    "lr = 'mentions'\n",
    "py2neo.load_csv_for_relations(file_path, l1, p1, l2, p2, lr)\n",
    "\n",
    "file_path = 'processed_data/V1_edges_id.csv'\n",
    "l1 = 'event'\n",
    "p1 = {'ID':'orig'}\n",
    "l2 = 'MBSE'\n",
    "p2 = {'ID':'dest'}\n",
    "lr = 'refers'\n",
    "py2neo.load_csv_for_relations(file_path, l1, p1, l2, p2, lr)"
   ]
  },
  {
   "cell_type": "code",
   "execution_count": null,
   "metadata": {},
   "outputs": [],
   "source": [
    "### Load events: V2"
   ]
  },
  {
   "cell_type": "code",
   "execution_count": null,
   "metadata": {},
   "outputs": [],
   "source": [
    "# Nodes\n",
    "file_path = 'processed_data/CR_V2_nodes.csv'\n",
    "label = 'event'\n",
    "attribute = {'ID':'ID', 'date':'date'}\n",
    "py2neo.load_csv_for_nodes(file_path, label, attribute)\n",
    "\n",
    "file_path = 'processed_data/entities_V2_nodes.csv'\n",
    "label = 'entity'\n",
    "attribute = {'ID':'entities'}\n",
    "py2neo.load_csv_for_nodes(file_path, label, attribute)\n",
    "\n",
    "# Edges\n",
    "file_path = 'processed_data/V2_edges_ent.csv'\n",
    "l1 = 'event'\n",
    "p1 = {'ID':'orig'}\n",
    "l2 = 'entity'\n",
    "p2 = {'ID':'dest'}\n",
    "lr = 'mentions'\n",
    "py2neo.load_csv_for_relations(file_path, l1, p1, l2, p2, lr)\n",
    "\n",
    "file_path = 'processed_data/V2_edges_id.csv'\n",
    "l1 = 'event'\n",
    "p1 = {'ID':'orig'}\n",
    "l2 = 'MBSE'\n",
    "p2 = {'ID':'dest'}\n",
    "lr = 'refers'\n",
    "py2neo.load_csv_for_relations(file_path, l1, p1, l2, p2, lr)"
   ]
  }
 ],
 "metadata": {
  "kernelspec": {
   "display_name": "dackar_libs",
   "language": "python",
   "name": "python3"
  },
  "language_info": {
   "codemirror_mode": {
    "name": "ipython",
    "version": 3
   },
   "file_extension": ".py",
   "mimetype": "text/x-python",
   "name": "python",
   "nbconvert_exporter": "python",
   "pygments_lexer": "ipython3",
   "version": "3.11.8"
  }
 },
 "nbformat": 4,
 "nbformat_minor": 2
}
