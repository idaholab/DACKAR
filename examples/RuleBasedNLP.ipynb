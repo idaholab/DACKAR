{
 "cells": [
  {
   "cell_type": "markdown",
   "id": "32ea3767-c35e-416b-a4b5-b5d1370df1f3",
   "metadata": {},
   "source": [
    "# Demo for Rule Based Natural Language Processing"
   ]
  },
  {
   "cell_type": "markdown",
   "id": "bb843d35-59af-4e3f-9700-fc6f6e2aad0e",
   "metadata": {},
   "source": [
    "### 1. Set up the path, so that the NLP modules can be found"
   ]
  },
  {
   "cell_type": "code",
   "execution_count": 1,
   "id": "0e32d652-af95-44d4-89a0-de554d2f33a2",
   "metadata": {},
   "outputs": [],
   "source": [
    "import os\n",
    "import sys\n",
    "\n",
    "cwd = os.getcwd()\n",
    "frameworkDir = os.path.abspath(os.path.join(cwd, os.pardir, 'src'))\n",
    "sys.path.append(frameworkDir)"
   ]
  },
  {
   "cell_type": "markdown",
   "id": "80c89186-405c-471e-be16-e3e80cb9ab20",
   "metadata": {},
   "source": [
    "### 2. Load Spacy module"
   ]
  },
  {
   "cell_type": "code",
   "execution_count": 2,
   "id": "4f0c40e5-bec7-4281-a313-80234c19b95f",
   "metadata": {},
   "outputs": [
    {
     "name": "stderr",
     "output_type": "stream",
     "text": [
      "/Users/wangc/miniconda3/envs/nlp_libs/lib/python3.9/site-packages/torch/__init__.py:614: UserWarning: torch.set_default_tensor_type() is deprecated as of PyTorch 2.1, please use torch.set_default_dtype() and torch.set_default_device() as alternatives. (Triggered internally at /Users/runner/work/pytorch/pytorch/pytorch/torch/csrc/tensor/python_tensor.cpp:453.)\n",
      "  _C._set_default_tensor_type(t)\n"
     ]
    }
   ],
   "source": [
    "import spacy\n",
    "nlp = spacy.load(\"en_core_web_lg\", exclude=[])"
   ]
  },
  {
   "cell_type": "markdown",
   "id": "8c5f8cfc-2d85-4a53-bacc-d719614ea05b",
   "metadata": {},
   "source": [
    "### 3. Load other modules"
   ]
  },
  {
   "cell_type": "code",
   "execution_count": 3,
   "id": "fdd6ef86-ce41-4813-aba4-70af07693a9f",
   "metadata": {},
   "outputs": [],
   "source": [
    "import pandas as pd"
   ]
  },
  {
   "cell_type": "markdown",
   "id": "386122b6-1ad0-469e-bc53-c2087857f649",
   "metadata": {},
   "source": [
    "### 4. Import NLP modules "
   ]
  },
  {
   "cell_type": "code",
   "execution_count": 4,
   "id": "8126fb35-a9b1-45b1-b63d-b07b02e5dcf1",
   "metadata": {},
   "outputs": [
    {
     "name": "stderr",
     "output_type": "stream",
     "text": [
      "/Users/wangc/miniconda3/envs/nlp_libs/lib/python3.9/site-packages/tqdm/auto.py:21: TqdmWarning: IProgress not found. Please update jupyter and ipywidgets. See https://ipywidgets.readthedocs.io/en/stable/user_install.html\n",
      "  from .autonotebook import tqdm as notebook_tqdm\n",
      "Warming up PyWSD (takes ~10 secs)... took 1.9467780590057373 secs.\n"
     ]
    }
   ],
   "source": [
    "from dackar.workflows.RuleBasedMatcher import RuleBasedMatcher\n",
    "from dackar import config\n",
    "from dackar.utils.nlp.nlp_utils import generatePatternList\n",
    "from dackar.utils.opm.OPLparser import OPMobject"
   ]
  },
  {
   "cell_type": "markdown",
   "id": "62219682-2d67-4ec6-9c98-912d5a0ed246",
   "metadata": {},
   "source": [
    "### 5. Set up logging  "
   ]
  },
  {
   "cell_type": "code",
   "execution_count": 5,
   "id": "2c0f142f-42fd-45c4-8389-1eeca5f8e8ce",
   "metadata": {},
   "outputs": [],
   "source": [
    "import logging\n",
    "logging.basicConfig(format='%(asctime)s %(name)-20s %(levelname)-8s %(message)s', datefmt='%d-%b-%y %H:%M:%S', level=logging.DEBUG)"
   ]
  },
  {
   "cell_type": "markdown",
   "id": "1b31b48e-48b0-4dbe-8cf8-c78143c66b7f",
   "metadata": {},
   "source": [
    "###  6. Read and process entities"
   ]
  },
  {
   "cell_type": "code",
   "execution_count": 6,
   "id": "31319bfe-c0b9-4e9f-9c1f-a52bfae36215",
   "metadata": {},
   "outputs": [],
   "source": [
    "ents = []\n",
    "entityFile = config.nlpConfig['files']['entity_file']\n",
    "entityList = pd.read_csv(entityFile).values.ravel().tolist()\n",
    "ents.extend(entityList)\n",
    "ents = set(ents)\n",
    "label = \"pump_component\"\n",
    "entId = \"SSC\"\n",
    "patternsOPM = generatePatternList(ents, label=label, id=entId, nlp=nlp, attr=\"LEMMA\")"
   ]
  },
  {
   "cell_type": "markdown",
   "id": "0fcad635-1186-4816-b4c7-5f3ed3969f7f",
   "metadata": {},
   "source": [
    "### 7. Read and process causal keywords "
   ]
  },
  {
   "cell_type": "code",
   "execution_count": 7,
   "id": "643de747-4981-4bdd-ab44-f4f1abb16f1a",
   "metadata": {},
   "outputs": [],
   "source": [
    "causalLabel = \"causal_keywords\"\n",
    "causalID = \"causal\"\n",
    "patternsCausal = []\n",
    "causalFilename = config.nlpConfig['files']['cause_effect_keywords_file']\n",
    "ds = pd.read_csv(causalFilename, skipinitialspace=True)\n",
    "for col in ds.columns:\n",
    "    vars = set(ds[col].dropna())\n",
    "    patternsCausal.extend(generatePatternList(vars, label=causalLabel, id=causalID, nlp=nlp, attr=\"LEMMA\"))"
   ]
  },
  {
   "cell_type": "markdown",
   "id": "0c932ecb-c784-4534-9e01-c631ab2e6866",
   "metadata": {},
   "source": [
    "### 8. Create Rule-based matcher with entity list and causal entity list"
   ]
  },
  {
   "cell_type": "code",
   "execution_count": 8,
   "id": "8503b3c3-8a9e-4526-84b7-64cc8ccb9728",
   "metadata": {},
   "outputs": [],
   "source": [
    "name = 'ssc_entity_ruler'\n",
    "matcher = RuleBasedMatcher(nlp, entLabel=entId, causalKeywordLabel=causalID)\n",
    "matcher.addEntityPattern(name, patternsOPM)\n",
    "\n",
    "causalName = 'causal_keywords_entity_ruler'\n",
    "matcher.addEntityPattern(causalName, patternsCausal)"
   ]
  },
  {
   "cell_type": "markdown",
   "id": "ae0ca9d7-0474-4845-848c-a9d5ab504218",
   "metadata": {},
   "source": [
    "### 9. Read input text file, or users can provide a raw string"
   ]
  },
  {
   "cell_type": "code",
   "execution_count": 9,
   "id": "e5ba4b71-c0ec-40dd-bcbb-51ce67de4b95",
   "metadata": {},
   "outputs": [],
   "source": [
    "textFile = config.nlpConfig['files']['text_file']\n",
    "with open(textFile, 'r') as ft:\n",
    "    doc = ft.read()"
   ]
  },
  {
   "cell_type": "markdown",
   "id": "747c033a-b2dc-4ea7-b084-f539649ef5d7",
   "metadata": {},
   "source": [
    "### 10. Process raw string data using matcher"
   ]
  },
  {
   "cell_type": "code",
   "execution_count": 10,
   "id": "9cb4ae56-ea17-4289-b2c5-e3602ce4fd9f",
   "metadata": {},
   "outputs": [
    {
     "name": "stdout",
     "output_type": "stream",
     "text": [
      "0: relay(38), relay(53); 1: ASDVs(203), ASDVs(225), ASDVs(248), ASDVs(295), ASDVs(312), ASDVs(382); 2: relay(428), relay(446), relay(465), relay(469), relay(483); 3: The duty cycle(443), it(453); 4: ASDVs(488), ASDVs(502), ASDVs(549); 5: relay(558), relay(603), relay(622); 6: coil(593), it(610); 7: relay(709), relay(721), relay(738); 8: The preventive maintenance optimization code(714), it(725)\n"
     ]
    }
   ],
   "source": [
    "matcher(doc)"
   ]
  },
  {
   "cell_type": "markdown",
   "id": "a55e8ef2-a278-49a0-be0a-deac5a3328e1",
   "metadata": {},
   "source": [
    "### 11. Access processed information from matcher"
   ]
  },
  {
   "cell_type": "code",
   "execution_count": 11,
   "id": "cdf032fd-3c88-46fc-9629-0762973669eb",
   "metadata": {},
   "outputs": [
    {
     "data": {
      "text/plain": [
       "[[Investigation,\n",
       "  None,\n",
       "  revealed,\n",
       "  steam dump control relay,\n",
       "  'failed',\n",
       "  Investigation revealed that the steam dump control relay had failed, rendering all four atmospheric steam dump valves inoperable.,\n",
       "  False],\n",
       " [Investigation,\n",
       "  None,\n",
       "  rendering,\n",
       "  atmospheric steam dump valves,\n",
       "  'inoperable',\n",
       "  Investigation revealed that the steam dump control relay had failed, rendering all four atmospheric steam dump valves inoperable.,\n",
       "  False],\n",
       " [steam dump control relay,\n",
       "  'failed',\n",
       "  rendering,\n",
       "  atmospheric steam dump valves,\n",
       "  'inoperable',\n",
       "  Investigation revealed that the steam dump control relay had failed, rendering all four atmospheric steam dump valves inoperable.,\n",
       "  False],\n",
       " [Investigation,\n",
       "  None,\n",
       "  revealed,\n",
       "  steam dump control relay,\n",
       "  'failed',\n",
       "  Investigation revealed that the steam dump control relay had failed, rendering all four atmospheric steam dump valves inoperable, and causing an entry into a 24-hour shutdown action statement limiting condition for operation 3.7.4.,\n",
       "  False],\n",
       " [Investigation,\n",
       "  None,\n",
       "  rendering,\n",
       "  atmospheric steam dump valves,\n",
       "  'inoperable',\n",
       "  Investigation revealed that the steam dump control relay had failed, rendering all four atmospheric steam dump valves inoperable, and causing an entry into a 24-hour shutdown action statement limiting condition for operation 3.7.4.,\n",
       "  False],\n",
       " [steam dump control relay,\n",
       "  'failed',\n",
       "  rendering,\n",
       "  atmospheric steam dump valves,\n",
       "  'inoperable',\n",
       "  Investigation revealed that the steam dump control relay had failed, rendering all four atmospheric steam dump valves inoperable, and causing an entry into a 24-hour shutdown action statement limiting condition for operation 3.7.4.,\n",
       "  False],\n",
       " [ASDVs,\n",
       "  None,\n",
       "  prevent,\n",
       "  steam safety valves,\n",
       "  'lifting',\n",
       "  The capacity of the ASDVs is adequate to prevent lifting of the main steam safety valves following a turbine and reactor trip.,\n",
       "  True],\n",
       " [ASDVs,\n",
       "  None,\n",
       "  prevent,\n",
       "  turbine,\n",
       "  None,\n",
       "  The capacity of the ASDVs is adequate to prevent lifting of the main steam safety valves following a turbine and reactor trip.,\n",
       "  True],\n",
       " [control room,\n",
       "  None,\n",
       "  controlled,\n",
       "  ASDVs,\n",
       "  'controlled',\n",
       "  Although the steam dump system is arranged for automatic operation, the ASDVs may be manually controlled from either control room or engineered safeguards control panels.,\n",
       "  True],\n",
       " [control room,\n",
       "  None,\n",
       "  controlled,\n",
       "  steam dump system,\n",
       "  'automatic operation',\n",
       "  Although the steam dump system is arranged for automatic operation, the ASDVs may be manually controlled from either control room or engineered safeguards control panels.,\n",
       "  True],\n",
       " [control panels,\n",
       "  'engineered safeguards',\n",
       "  controlled,\n",
       "  ASDVs,\n",
       "  'controlled',\n",
       "  Although the steam dump system is arranged for automatic operation, the ASDVs may be manually controlled from either control room or engineered safeguards control panels.,\n",
       "  True],\n",
       " [control panels,\n",
       "  'engineered safeguards',\n",
       "  controlled,\n",
       "  steam dump system,\n",
       "  'automatic operation',\n",
       "  Although the steam dump system is arranged for automatic operation, the ASDVs may be manually controlled from either control room or engineered safeguards control panels.,\n",
       "  True],\n",
       " [steam dump control relay coil,\n",
       "  'the failure',\n",
       "  due to,\n",
       "  failure,\n",
       "  None,\n",
       "  Troubleshooting the circuit identified that the Bussmann fuse FUZ/IM13-1, model number FNM-5, was found opened due to the steam dump control relay coil failure.,\n",
       "  False],\n",
       " [fuse,\n",
       "  'The opening',\n",
       "  resulted in,\n",
       "  IM13 scheme,\n",
       "  'loss of power',\n",
       "  The opening of the fuse resulted in loss of power to the IM13 scheme, which disabled the automatic fast-open function, as well as the manual operation, of the ASDVs.,\n",
       "  False],\n",
       " [relay coil,\n",
       "  'the age',\n",
       "  The cause,\n",
       "  SDCR coil,\n",
       "  'the failure',\n",
       "  The cause of the SDCR coil failure is overheating due to the age of the relay coil being beyond the vendor recommended life for a normally energized relay.,\n",
       "  False],\n",
       " [relay,\n",
       "  'a normally energized',\n",
       "  The cause,\n",
       "  SDCR coil,\n",
       "  'the failure',\n",
       "  The cause of the SDCR coil failure is overheating due to the age of the relay coil being beyond the vendor recommended life for a normally energized relay.,\n",
       "  False],\n",
       " [relay,\n",
       "  'the normally energized state',\n",
       "  due to,\n",
       "  relay,\n",
       "  None,\n",
       "  The duty cycle of the relay was set at \"low duty cycle\" when it should have been \"high duty cycle\" due to the normally energized state of the relay.,\n",
       "  False],\n",
       " [electrical coil,\n",
       "  'an internal failure',\n",
       "  due to,\n",
       "  SDCR relay,\n",
       "  'an internal failure',\n",
       "  The fuse opened because the SDCR relay failed due to an internal failure of the electrical coil.,\n",
       "  False],\n",
       " [relay coil,\n",
       "  'the age',\n",
       "  The cause,\n",
       "  relay coil,\n",
       "  'the failure',\n",
       "  The cause of the relay coil failure is overheating due to the age of the relay coil being beyond the vendor recommended life.,\n",
       "  False],\n",
       " [relay,\n",
       "  'the normally energized state',\n",
       "  due to,\n",
       "  relay,\n",
       "  None,\n",
       "  The relay coil was beyond the vendor recommended life because the duty cycle of the relay was set at \"low duty cycle\" when it should have been \"high duty cycle\" due to the normally energized state of the relay.\n",
       "  ,\n",
       "  False],\n",
       " [SDCR,\n",
       "  'the failure',\n",
       "  The actual consequence,\n",
       "  IM13 circuit,\n",
       "  'overcurrent',\n",
       "  The actual consequence of the failure of the SDCR, which was a short-circuit in the relay coil, was overcurrent in the IM13 circuit and opening of fuse FUZ/IM13-1.,\n",
       "  False],\n",
       " [SDCR,\n",
       "  'the failure',\n",
       "  The actual consequence,\n",
       "  fuse FUZ/IM13-1,\n",
       "  'opening',\n",
       "  The actual consequence of the failure of the SDCR, which was a short-circuit in the relay coil, was overcurrent in the IM13 circuit and opening of fuse FUZ/IM13-1.,\n",
       "  False],\n",
       " [relay coil,\n",
       "  'a short-circuit',\n",
       "  The actual consequence,\n",
       "  IM13 circuit,\n",
       "  'overcurrent',\n",
       "  The actual consequence of the failure of the SDCR, which was a short-circuit in the relay coil, was overcurrent in the IM13 circuit and opening of fuse FUZ/IM13-1.,\n",
       "  False],\n",
       " [relay coil,\n",
       "  'a short-circuit',\n",
       "  The actual consequence,\n",
       "  fuse FUZ/IM13-1,\n",
       "  'opening',\n",
       "  The actual consequence of the failure of the SDCR, which was a short-circuit in the relay coil, was overcurrent in the IM13 circuit and opening of fuse FUZ/IM13-1.,\n",
       "  False],\n",
       " [This,\n",
       "  None,\n",
       "  resulted in,\n",
       "  IM13 scheme,\n",
       "  'loss of power',\n",
       "  This resulted in loss of power to the IM13 scheme, which disables the automatic fast-open function of the ASDVs and disables manual operation of the ASDVs.,\n",
       "  False],\n",
       " [This,\n",
       "  None,\n",
       "  resulted in,\n",
       "  ASDVs,\n",
       "  'the automatic fast-open function',\n",
       "  This resulted in loss of power to the IM13 scheme, which disables the automatic fast-open function of the ASDVs and disables manual operation of the ASDVs.,\n",
       "  False],\n",
       " [This,\n",
       "  None,\n",
       "  resulted in,\n",
       "  ASDVs,\n",
       "  'manual operation',\n",
       "  This resulted in loss of power to the IM13 scheme, which disables the automatic fast-open function of the ASDVs and disables manual operation of the ASDVs.,\n",
       "  False],\n",
       " [Relay,\n",
       "  'Failure',\n",
       "  Due to,\n",
       "  Failure,\n",
       "  None,\n",
       "  Atmospheric Steam Dump Valves Inoperable Due to Relay Failure.,\n",
       "  False]]"
      ]
     },
     "execution_count": 11,
     "metadata": {},
     "output_type": "execute_result"
    }
   ],
   "source": [
    "matcher._extractedCausals"
   ]
  },
  {
   "cell_type": "code",
   "execution_count": null,
   "id": "6e11e101-8a3e-4446-aabb-c36421cb2f38",
   "metadata": {},
   "outputs": [],
   "source": []
  }
 ],
 "metadata": {
  "kernelspec": {
   "display_name": "Python 3 (ipykernel)",
   "language": "python",
   "name": "python3"
  },
  "language_info": {
   "codemirror_mode": {
    "name": "ipython",
    "version": 3
   },
   "file_extension": ".py",
   "mimetype": "text/x-python",
   "name": "python",
   "nbconvert_exporter": "python",
   "pygments_lexer": "ipython3",
   "version": "3.9.18"
  }
 },
 "nbformat": 4,
 "nbformat_minor": 5
}
