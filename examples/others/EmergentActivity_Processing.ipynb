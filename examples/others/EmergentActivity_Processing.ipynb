{
 "cells": [
  {
   "cell_type": "markdown",
   "id": "78445a9e",
   "metadata": {},
   "source": [
    "# Emergent Activity Analysis demo"
   ]
  },
  {
   "cell_type": "code",
   "execution_count": null,
   "id": "19a851df",
   "metadata": {},
   "outputs": [],
   "source": [
    "import os, sys\n",
    "import warnings\n",
    "import spacy\n",
    "from spacy.matcher import Matcher\n",
    "warnings.filterwarnings(\"ignore\")\n",
    "\n",
    "cwd = os.getcwd()\n",
    "frameworkDir = os.path.abspath(os.path.join(cwd, os.pardir, 'src'))\n",
    "sys.path.append(frameworkDir)\n",
    "\n",
    "from dackar.text_processing.Preprocessing import Preprocessing\n",
    "from dackar.text_processing.Abbreviation import Abbreviation"
   ]
  },
  {
   "cell_type": "markdown",
   "id": "61763ec6",
   "metadata": {},
   "source": [
    "## Text example"
   ]
  },
  {
   "cell_type": "code",
   "execution_count": 6,
   "id": "52955f6c",
   "metadata": {},
   "outputs": [],
   "source": [
    "# General Example\n",
    "content = \"\"\" wo101 wo 102  wo# 103 , wo#104 or wo #105 wo # 106 or a 107 wrong wo .\n",
    "ABCD01D hrs- 8hr PERFORM 8-hr REPAIRS IF 10-hrs REQUIRED 24hrs (contingency 24 hrs).\n",
    "1EFGH/J08K ERECT AB-7603 FOR IJKL-7148 XYZA7148abc OPGH0248 M-N 100 for WO# 84658 1BC/E08D-34r.\n",
    "RELEASE [CLEARANCE] #3693 RED/Replace # the \"A\" ** (Switch).\n",
    "A218-82-9171 -  REMOVE {INSUL}  [ISO].\n",
    "\"\"\""
   ]
  },
  {
   "cell_type": "markdown",
   "id": "bca22f25",
   "metadata": {},
   "source": [
    "## Pipeline creation\n",
    "Preprocessing requires a list of all desired preprocessors and a dictionary containing any additional options from textacy. The main keys of the options dictionary correspond to the name of the preprocessor. See the Text Preprocessing section from https://textacy.readthedocs.io/en/latest/ for available options."
   ]
  },
  {
   "cell_type": "code",
   "execution_count": 7,
   "id": "de09a82b",
   "metadata": {},
   "outputs": [
    {
     "name": "stdout",
     "output_type": "stream",
     "text": [
      "wo101 wo 102 wo 103 , wo 104 or wo 105 wo 106 or a 107 wrong wo .\n",
      "ABCD01D hrs- 8hr PERFORM 8-hr REPAIRS IF 10-hrs REQUIRED 24hrs contingency 24 hrs .\n",
      "1EFGH/J08K ERECT AB-7603 FOR IJKL-7148 XYZA7148abc OPGH0248 M-N 100 for WO 84658 1BC/E08D-34r.\n",
      "RELEASE CLEARANCE 3693 RED/Replace the A Switch .\n",
      "A218-82-9171 - REMOVE INSUL ISO .\n"
     ]
    }
   ],
   "source": [
    "preprocessorList = ['hyphenated_words',\n",
    "                    'punctuation',\n",
    "                    'quotation_marks',\n",
    "                    'whitespace']\n",
    "preprocessorOptions = {\n",
    "                      'punctuation': {'only': ['(', ')', '[', ']', '{','}', '*', '#', '~', '@', '$', '^', ':', ';', '=', '_', '\"', '!']}\n",
    "                      }\n",
    "\n",
    "preprocess = Preprocessing(preprocessorList, preprocessorOptions)\n",
    "post = preprocess(content)\n",
    "print(post)"
   ]
  },
  {
   "cell_type": "markdown",
   "id": "f94d52ab",
   "metadata": {},
   "source": [
    "### Abbreviation Handling"
   ]
  },
  {
   "cell_type": "code",
   "execution_count": null,
   "id": "727bbd92",
   "metadata": {},
   "outputs": [
    {
     "name": "stdout",
     "output_type": "stream",
     "text": [
      "wo101 wo 102 wo 103 , wo 104 or wo 105 wo 106 or a 107 wrong wo. abcd01d hours- 8hour perform 8-hour repairs if 10-hours required 24hours contingency 24 hours. 1efgh/j08k erect ab-7603 for ijkl-7148 xyza7148abc opgh0248 m-n 100 for wo 84658 1bc/e08d-34r. release clearance 3693 red/replace the a switch. a218-82-9171 - remove insul iso. \n"
     ]
    }
   ],
   "source": [
    "abbreviation = Abbreviation()\n",
    "# abbrDict = abbreviation.getAbbreviation()\n",
    "# print(abbrDict)\n",
    "\n",
    "# FIXME: do not work well when the abbreviation is combined with '-' and numbers, such as '8-hr' or '8hr'\n",
    "# abbrDict = {'hr':'hour', 'hrs':'hours', '-hr':' hour', '-hrs':'hours'}\n",
    "abbrDict = {'hr':'hour', 'hrs':'hours'}\n",
    "abbreviation.updateAbbreviation(abbrDict, reset=True)\n",
    "\n",
    "cleanedText = abbreviation.abbreviationSub(post)\n",
    "print(cleanedText)"
   ]
  },
  {
   "cell_type": "code",
   "execution_count": 9,
   "id": "0daa030a",
   "metadata": {},
   "outputs": [],
   "source": [
    "nlp = spacy.load(\"en_core_web_lg\")\n",
    "matcher = Matcher(nlp.vocab)\n",
    "pattern = [[{\"LOWER\": \"wo\"}, {\"IS_PUNCT\": True, \"OP\":\"*\"}, {\"IS_DIGIT\": True}], [{\"TEXT\":{\"REGEX\":\"(?<=wo)\\d+\"}}]]\n",
    "matcher.add(\"IdentifyWO\", pattern)\n",
    "doc = nlp(cleanedText)\n",
    "matches = matcher(doc)"
   ]
  },
  {
   "cell_type": "code",
   "execution_count": 10,
   "id": "bc3f9f7d",
   "metadata": {},
   "outputs": [
    {
     "name": "stdout",
     "output_type": "stream",
     "text": [
      "wo101\n",
      "wo 102\n",
      "wo 103\n",
      "wo 104\n",
      "wo 105\n",
      "wo 106\n",
      "wo 84658\n"
     ]
    }
   ],
   "source": [
    "for match_id, start, end in matches:\n",
    "    span = doc[start:end]\n",
    "    print(span.text)"
   ]
  },
  {
   "cell_type": "code",
   "execution_count": 11,
   "id": "4062d19e",
   "metadata": {},
   "outputs": [
    {
     "name": "stdout",
     "output_type": "stream",
     "text": [
      "wo101\n",
      "abcd01d\n",
      "8hour\n",
      "24hours\n",
      "1efgh\n",
      "j08k\n",
      "ab-7603\n",
      "ijkl-7148\n",
      "xyza7148abc\n",
      "opgh0248\n",
      "1bc\n",
      "e08d-34r\n",
      "a218\n"
     ]
    }
   ],
   "source": [
    "matcher = Matcher(nlp.vocab)\n",
    "pattern = [[{\"TEXT\":{\"REGEX\":\"(?=\\S*[a-zA-Z])(?=\\S*[0-9])\"}}]]\n",
    "matcher.add(\"IdentifyWO\", pattern)\n",
    "doc = nlp(cleanedText)\n",
    "matches = matcher(doc)\n",
    "for match_id, start, end in matches:\n",
    "    span = doc[start:end]\n",
    "    print(span.text)"
   ]
  }
 ],
 "metadata": {
  "hide_input": false,
  "kernelspec": {
   "display_name": "Python 3",
   "language": "python",
   "name": "python3"
  },
  "language_info": {
   "codemirror_mode": {
    "name": "ipython",
    "version": 3
   },
   "file_extension": ".py",
   "mimetype": "text/x-python",
   "name": "python",
   "nbconvert_exporter": "python",
   "pygments_lexer": "ipython3",
   "version": "3.11.9"
  }
 },
 "nbformat": 4,
 "nbformat_minor": 5
}
