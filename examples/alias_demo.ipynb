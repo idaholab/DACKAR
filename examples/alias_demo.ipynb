{
 "cells": [
  {
   "cell_type": "code",
   "execution_count": 1,
   "id": "c8612552-0a4d-4832-81d7-b6163552c286",
   "metadata": {},
   "outputs": [
    {
     "name": "stderr",
     "output_type": "stream",
     "text": [
      "Warming up PyWSD (takes ~10 secs)... took 3.738736867904663 secs.\n",
      "/Users/wangc/miniconda3/envs/nlp_libs/lib/python3.9/site-packages/torch/__init__.py:614: UserWarning: torch.set_default_tensor_type() is deprecated as of PyTorch 2.1, please use torch.set_default_dtype() and torch.set_default_device() as alternatives. (Triggered internally at /Users/runner/work/pytorch/pytorch/pytorch/torch/csrc/tensor/python_tensor.cpp:453.)\n",
      "  _C._set_default_tensor_type(t)\n"
     ]
    }
   ],
   "source": [
    "import spacy\n",
    "import numpy as np\n",
    "import pandas as pd\n",
    "import os, sys, time\n",
    "\n",
    "cwd = os.getcwd()\n",
    "frameworkDir = os.path.abspath(os.path.join(cwd, os.pardir, 'src'))\n",
    "sys.path.append(frameworkDir)\n",
    "\n",
    "from dackar.pipelines.CustomPipelineComponents import aliasResolver\n",
    "from dackar.utils.nlp.nlp_utils import resetPipeline\n",
    "\n",
    "nlp = spacy.load(\"en_core_web_lg\")\n",
    "# import logging\n",
    "# logger = logging.getLogger(__name__)\n",
    "\n",
    "# ch = logging.StreamHandler()\n",
    "# logger.addHandler(ch)"
   ]
  },
  {
   "cell_type": "code",
   "execution_count": 2,
   "id": "7614e9f2-1d50-49d8-8e9b-8c7dd0230419",
   "metadata": {},
   "outputs": [
    {
     "name": "stdout",
     "output_type": "stream",
     "text": [
      "[('tok2vec', <spacy.pipeline.tok2vec.Tok2Vec object at 0x7fa417e77ea0>), ('tagger', <spacy.pipeline.tagger.Tagger object at 0x7fa45fa5fef0>), ('parser', <spacy.pipeline.dep_parser.DependencyParser object at 0x7fa4139d3940>), ('attribute_ruler', <spacy.pipeline.attributeruler.AttributeRuler object at 0x7fa417e8f2c0>), ('lemmatizer', <spacy.lang.en.lemmatizer.EnglishLemmatizer object at 0x7fa415217040>), ('aliasResolver', <function aliasResolver at 0x7fa4185c7f70>)]\n"
     ]
    }
   ],
   "source": [
    "# aliasResolver pipeline should always after \"entity_ruler\"\n",
    "pipelines = ['aliasResolver']\n",
    "resetPipeline(nlp, pipelines)\n",
    "print(nlp.pipeline)"
   ]
  },
  {
   "cell_type": "code",
   "execution_count": 3,
   "id": "c744e125-5782-4592-8048-9f17cc43c2c4",
   "metadata": {},
   "outputs": [],
   "source": [
    "text=\"1-71120-P1, CLEAN ZEBRA MUSSELS IN PUMPHOUSE. 1-71120-PM1 REQUIRES OIL TOP UP. 71120, CLEAN TRASH RACKS FROM FOREBAY SIDE\""
   ]
  },
  {
   "cell_type": "code",
   "execution_count": 4,
   "id": "0c8fcfc3-9f0f-4fac-92ab-07dea3a06d63",
   "metadata": {},
   "outputs": [
    {
     "data": {
      "text/html": [
       "<span class=\"tex2jax_ignore\"><div class=\"entities\" style=\"line-height: 2.5; direction: ltr\">\n",
       "<mark class=\"entity\" style=\"background: #ddd; padding: 0.45em 0.6em; margin: 0 0.25em; line-height: 1; border-radius: 0.35em;\">\n",
       "    1-71120-P1\n",
       "    <span style=\"font-size: 0.8em; font-weight: bold; line-height: 1; border-radius: 0.35em; vertical-align: middle; margin-left: 0.5rem\">cws_component</span>\n",
       "</mark>\n",
       ", CLEAN ZEBRA MUSSELS IN PUMPHOUSE. \n",
       "<mark class=\"entity\" style=\"background: #ddd; padding: 0.45em 0.6em; margin: 0 0.25em; line-height: 1; border-radius: 0.35em;\">\n",
       "    1-71120-PM1\n",
       "    <span style=\"font-size: 0.8em; font-weight: bold; line-height: 1; border-radius: 0.35em; vertical-align: middle; margin-left: 0.5rem\">cws_component</span>\n",
       "</mark>\n",
       " REQUIRES OIL TOP UP. \n",
       "<mark class=\"entity\" style=\"background: #ddd; padding: 0.45em 0.6em; margin: 0 0.25em; line-height: 1; border-radius: 0.35em;\">\n",
       "    71120\n",
       "    <span style=\"font-size: 0.8em; font-weight: bold; line-height: 1; border-radius: 0.35em; vertical-align: middle; margin-left: 0.5rem\">cws_component</span>\n",
       "</mark>\n",
       ", CLEAN TRASH RACKS FROM \n",
       "<mark class=\"entity\" style=\"background: #ddd; padding: 0.45em 0.6em; margin: 0 0.25em; line-height: 1; border-radius: 0.35em;\">\n",
       "    FOREBAY\n",
       "    <span style=\"font-size: 0.8em; font-weight: bold; line-height: 1; border-radius: 0.35em; vertical-align: middle; margin-left: 0.5rem\">cws_component</span>\n",
       "</mark>\n",
       " SIDE</div></span>"
      ],
      "text/plain": [
       "<IPython.core.display.HTML object>"
      ]
     },
     "metadata": {},
     "output_type": "display_data"
    }
   ],
   "source": [
    "# Load module from DACKAR\n",
    "from dackar.pipelines.GeneralEntity import GeneralEntity\n",
    "from spacy import displacy\n",
    "# Load pattern generation from DACKAR\n",
    "from dackar.utils.nlp.nlp_utils import generatePatternList\n",
    "\n",
    "pipeline = [pipe for (pipe,_) in nlp.pipeline]\n",
    "if \"enity_ruler\" in pipeline:\n",
    "    nlp.remove_pipe(\"entity_ruler\")\n",
    "if \"ner\" in pipeline:\n",
    "    nlp.remove_pipe(\"ner\")\n",
    "\n",
    "# Specify Entities Labels and IDs\n",
    "entLabel = \"cws_component\"        # user defined entity label\n",
    "entId = \"OPM\"  \n",
    "entIDList = ['1-71120-P1', '1-71120-PM1', '71120', 'FOREBAY']\n",
    "patternsEnts = generatePatternList(entIDList, label=entLabel,    id=entId,    nlp=nlp, attr=\"LEMMA\")\n",
    "\n",
    "generalEntity = GeneralEntity(nlp, patternsEnts)\n",
    "\n",
    "doc = nlp(text)\n",
    "displacy.render(doc, style='ent', jupyter=True)"
   ]
  },
  {
   "cell_type": "code",
   "execution_count": 5,
   "id": "5e4cefd2-bc47-4151-96b0-834742614972",
   "metadata": {},
   "outputs": [
    {
     "name": "stdout",
     "output_type": "stream",
     "text": [
      "1-71120-P1 cw pump\n",
      "1-71120-PM1 cw p1 pump motor\n",
      "71120 ccw\n",
      "FOREBAY None\n"
     ]
    }
   ],
   "source": [
    "for ent in doc.ents:\n",
    "    print(ent.text, ent._.alias)"
   ]
  }
 ],
 "metadata": {
  "kernelspec": {
   "display_name": "Python 3",
   "language": "python",
   "name": "python3"
  },
  "language_info": {
   "codemirror_mode": {
    "name": "ipython",
    "version": 3
   },
   "file_extension": ".py",
   "mimetype": "text/x-python",
   "name": "python",
   "nbconvert_exporter": "python",
   "pygments_lexer": "ipython3",
   "version": "3.9.17"
  }
 },
 "nbformat": 4,
 "nbformat_minor": 5
}
