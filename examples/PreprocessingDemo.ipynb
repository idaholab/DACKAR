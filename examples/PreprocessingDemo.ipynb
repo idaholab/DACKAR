{
 "cells": [
  {
   "cell_type": "markdown",
   "id": "78445a9e",
   "metadata": {},
   "source": [
    "# Preprocessing Demo\n",
    "This notebook shows how to use the Postprocessing class for cleaning, numerizing, and spell checking raw data."
   ]
  },
  {
   "cell_type": "code",
   "execution_count": null,
   "id": "19a851df",
   "metadata": {},
   "outputs": [],
   "source": [
    "import os, sys, time\n",
    "import warnings\n",
    "warnings.filterwarnings(\"ignore\")\n",
    "\n",
    "cwd = os.getcwd()\n",
    "frameworkDir = os.path.abspath(os.path.join(cwd, os.pardir, 'src'))\n",
    "sys.path.append(frameworkDir)\n",
    "\n",
    "from dackar.text_processing.Preprocessing import Preprocessing\n",
    "from dackar.text_processing.SpellChecker import SpellChecker"
   ]
  },
  {
   "cell_type": "markdown",
   "id": "264aa86c",
   "metadata": {},
   "source": [
    "## Text to clean and numerize"
   ]
  },
  {
   "cell_type": "code",
   "execution_count": null,
   "id": "4f2ae2f8",
   "metadata": {},
   "outputs": [],
   "source": [
    "text = (\"bullet_points:\\n\"\n",
    "        \"\\n‣ item1\\n⁃ item2\\n⁌ item3\\n⁍ item4\\n∙ item5\\n▪ item6\\n● item7\\n◦ item8\\n\"\n",
    "        \"=======================\\n\"\n",
    "        \"hyphenated_words:\\n\"\n",
    "        \"I see you shiver with antici- pation.\\n\"\n",
    "        \"I see you shiver with antici-   \\npation.\\n\"\n",
    "        \"I see you shiver with antici- PATION.\\n\"\n",
    "        \"I see you shiver with antici- 1pation.\\n\"\n",
    "        \"I see you shiver with antici pation.\\n\"\n",
    "        \"I see you shiver with antici-pation.\\n\"\n",
    "        \"My phone number is 555- 1234.\\n\"\n",
    "        \"I got an A- on the test.\\n\"\n",
    "        \"=======================\\n\"\n",
    "        \"quotation_marks:\\n\"\n",
    "        \"These are ´funny single quotes´.\\n\"\n",
    "        \"These are ‘fancy single quotes’.\\n\"\n",
    "        \"These are “fancy double quotes”.\\n\"\n",
    "        \"=======================\\n\"\n",
    "        \"repeating_chars:\\n\"\n",
    "        \"**Hello**, world!!! I wonder....... How are *you* doing?!?! lololol\\n\"\n",
    "        \"=======================\\n\"\n",
    "        \"unicode:\\n\"\n",
    "        \"Well… That's a long story.\\n\"\n",
    "        \"=======================\\n\"\n",
    "        \"whitespace:\\n\"\n",
    "        \"Hello,  world!\\n\"\n",
    "        \"Hello,     world!\\n\"\n",
    "        \"Hello,\\tworld!\\n\"\n",
    "        \"Hello,\\t\\t  world!\\n\"\n",
    "        \"Hello,\\n\\nworld!\\n\"\n",
    "        \"Hello,\\r\\nworld!\\n\"\n",
    "        \"Hello\\uFEFF, world!\\n\"\n",
    "        \"Hello\\u200B\\u200B, world!\\n\"\n",
    "        \"Hello\\uFEFF,\\n\\n\\nworld   !  \\n\"\n",
    "        \"=======================\\n\"\n",
    "        \"accents:\\n\"\n",
    "        \"El niño se asustó del pingüino -- qué miedo!\\n\"\n",
    "        \"Le garçon est très excité pour la forêt.\\n\"\n",
    "        \"=======================\\n\"\n",
    "        \"brackets:\\n\"\n",
    "        \"Hello, {name}!\\n\"\n",
    "        \"Hello, world (DeWilde et al., 2021, p. 42)!\\n\"\n",
    "        \"Hello, world (1)!\\n\"\n",
    "        \"Hello, world [1]!\\n\"\n",
    "        \"Hello, world (and whomever it may concern [not that it's any of my business])!\\n\"\n",
    "        \"Hello, world (and whomever it may concern (not that it's any of my business))!\\n\"\n",
    "        \"Hello, world (and whomever it may concern [not that it's any of my business])!\\n\"\n",
    "        \"Hello, world [1]!\\n\"\n",
    "        \"Hello, world [1]!\\n\"\n",
    "        \"=======================\\n\"\n",
    "        \"html_tags:\\n\"\n",
    "        \"Hello, <i>world!</i>\\n\"\n",
    "        \"<title>Hello, world!</title>\\n\"\n",
    "        '<title class=\"foo\">Hello, world!</title>\\n'\n",
    "        \"<html><head><title>Hello, <i>world!</i></title></head></html>\\n\"\n",
    "            \"<html>\\n\"\n",
    "            \"  <head>\\n\"\n",
    "            '    <title class=\"foo\">Hello, <i>world!</i></title>\\n'\n",
    "            \"  </head>\\n\"\n",
    "            \"  <!--this is a comment-->\\n\"\n",
    "            \"  <body>\\n\"\n",
    "            \"    <p>How's it going?</p>\\n\"\n",
    "            \"  </body>\\n\"\n",
    "            \"</html>\\n\"\n",
    "        \"=======================\\n\"\n",
    "        \"punctuation:\\n\"\n",
    "        \"I can't. No, I won't! It's a matter of \\\"principle\\\"; of -- what's the word? -- conscience.\\n\"\n",
    "        \"=======================\\n\"\n",
    "        \"currency_symbols:\\n\"\n",
    "        \"$1.00 equals 100¢.\\n\"\n",
    "        \"How much is ¥100 in £?\\n\"\n",
    "        \"My password is 123$abc฿.\\n\"\n",
    "        \"=======================\\n\"\n",
    "        \"emails:\\n\"\n",
    "        \"Reach out at username@example.com.\\n\"\n",
    "        \"Click here: mailto:username@example.com.\\n\"\n",
    "        \"=======================\\n\"\n",
    "        \"emoji:\\n\"\n",
    "        \"ugh, it's raining *again* ☔\\n\"\n",
    "        \"✌ tests are passing ✌\\n\"\n",
    "        \"=======================\\n\"\n",
    "        \"hashtags:\\n\"\n",
    "        \"like omg it's #ThrowbackThursday\\n\"\n",
    "        \"#TextacyIn4Words: \\\"but it's honest work\\\"\\n\"\n",
    "        \"wth twitter #ican'teven #why-even-try\\n\"\n",
    "        \"www.foo.com#fragment is not a hashtag\\n\"\n",
    "        \"=======================\\n\"\n",
    "        \"numbers:\\n\"\n",
    "        \"I owe $1,000.99 to 123 people for 2 +1 reasons.\\n\"\n",
    "        \"=======================\\n\"\n",
    "        \"phone_numbers:\\n\"\n",
    "        \"I can be reached at 555-123-4567 through next Friday.\\n\"\n",
    "        \"=======================\\n\"\n",
    "        \"urls:\\n\"\n",
    "        \"I learned everything I know from www.stackoverflow.com and http://wikipedia.org/ and Mom.\\n\"\n",
    "        \"=======================\\n\"\n",
    "        \"user_handles:\\n\"\n",
    "        \"@Real_Burton_DeWilde: definitely not a bot\\n\"\n",
    "        \"wth twitter @b.j.dewilde\\n\"\n",
    "        \"foo@bar.com is not a user handle\\n\"\n",
    "        \"=======================\\n\"\n",
    "        \"numerize:\\n\"\n",
    "        \"forty-two\\n\"\n",
    "        \"four hundred and sixty two\\n\"\n",
    "        \"one fifty\\n\"\n",
    "        \"twelve hundred\\n\"\n",
    "        \"twenty one thousand four hundred and seventy three\\n\"\n",
    "        \"one billion and one\\n\"\n",
    "        \"nine and three quarters\\n\"\n",
    ")"
   ]
  },
  {
   "cell_type": "markdown",
   "id": "bca22f25",
   "metadata": {},
   "source": [
    "## Pipeline creation\n",
    "Preprocessing requires a list of all desired preprocessors and a dictionary containing any additional options from textacy. The main keys of the options dictionary correspond to the name of the preprocessor. See the Text Preprocessing section from https://textacy.readthedocs.io/en/latest/ for available options.\n",
    "\n",
    "This example pipeline includes all of the textacy preprocessors and numerize. Unexpected behavior may happen when using all of the textacy preprocessors, depending on the ordering which they are applied. "
   ]
  },
  {
   "cell_type": "code",
   "execution_count": null,
   "id": "de09a82b",
   "metadata": {},
   "outputs": [],
   "source": [
    "preprocessorList = ['bullet_points',\n",
    "                    'hyphenated_words',\n",
    "                    'quotation_marks',\n",
    "                    'repeating_chars',\n",
    "                    'unicode',\n",
    "                    'whitespace',\n",
    "                    'accents',\n",
    "                    'brackets',\n",
    "                    'html_tags',\n",
    "                    'punctuation',\n",
    "                    'currency_symbols',\n",
    "                    'emails',\n",
    "                    'emojis',\n",
    "                    'hashtags',\n",
    "                    'numbers',\n",
    "                    'phone_numbers',\n",
    "                    'urls',\n",
    "                    'user_handles',\n",
    "                    'numerize']\n",
    "preprocessorOptions = {'repeating_chars': {'chars': 'ol', 'maxn': 2},\n",
    "                       'unicode': {'form': 'NFKC'},\n",
    "                       'accents': {'fast': False},\n",
    "                       'brackets': {'only': 'square'},\n",
    "                       'punctuation': {'only': '\\''}}"
   ]
  },
  {
   "cell_type": "code",
   "execution_count": null,
   "id": "f94d52ab",
   "metadata": {},
   "outputs": [],
   "source": [
    "preprocess = Preprocessing(preprocessorList, preprocessorOptions)\n",
    "post = preprocess(text)\n",
    "print(post)"
   ]
  },
  {
   "cell_type": "markdown",
   "id": "1024de4c",
   "metadata": {},
   "source": [
    "## Coherent text example with Autocorrect and ContextualSpellCheck spelling correction\n",
    "The text was taken from data/raw_text.txt and modified to have spelling mistakes and other items to clean up.\n",
    "\n",
    "Note that numerizer automatically changes the first \"A\" to \"1\" and cannot be avoided."
   ]
  },
  {
   "cell_type": "code",
   "execution_count": null,
   "id": "293950d8",
   "metadata": {},
   "outputs": [],
   "source": [
    "text = (\"A laek was noticed from the RCP pump 1A.\\n\"\n",
    "        \"A light was unplugged.\\n\"\n",
    "        \"RCP pump 1A presure gauge was found not operating.\\n\"\n",
    "        \"RCP pump 1A pressure gauge was found inoperative.\\n\"\n",
    "        \"RCP pump 1A had signs of past leakage.\\n\"\n",
    "        \"The Pump is not experiencing enough flow druing test.\\n\"\n",
    "        \"Slight Vibrations is noticed - likely from pump shaft deflection.\\n\"\n",
    "        \"Pump flow meter was not responding.\\n\"\n",
    "        \"Rupture of pump bearings caused pump shaft degradation.\\n\"\n",
    "        \"Rupture of pump bearings caused pump shaft degradation and consequent flow reduction.\\n\"\n",
    "        \"Power supply has been found burnout.\\n\"\n",
    "        \"Pump test failed due to power supply failure.\\n\"\n",
    "        \"Pump inspection revieled excessive impeller degradation.\\n\"\n",
    "        \"Pump inspection revealed exessive impeller degradation likely due to cavitation.\\n\"\n",
    "        \"Oil puddle was found in proximity of RCP pump 1A.\\n\"\n",
    "        \"Anomalous vibrations were observed for RCP pump 1A.\\n\"\n",
    "        \"Three cracks on pump shaft were observed; they could have caused pump failure within four days.\\n\"\n",
    "        \"RCP pump 1A was cavitating and vibrating to some degree during test.\\n\"\n",
    "        \"This is most likely due to low flow conditions rather than mechanical issues.\\n\"\n",
    "        \"Cavitation was noticed but did not seem severe.\\n\"\n",
    "        \"The pump shaft vibration appears to be causing the motor to vibrate as well.\\n\"\n",
    "        \"Pump had noise of cavitation which became faint after OPS bled off the air. Low flow conditions most likely causing cavit-\\n\"\n",
    "        \"ation.\\n\"\n",
    "        \"The pump shaft deflection is causing the safety cage to rattle.\\n\"\n",
    "        \"The Pump is not experiencing enough flow for the pumps to keep the check valves open during test.\\n\"\n",
    "        \"Pump shaft made noise.\\n\"\n",
    "        \"Vibration seems like it is coming from the pump shaft.\\n\"\n",
    "        \"Visible pump shaft deflection in operation.\\n\"\n",
    "        \"Pump bearings appear in acceptable condition.\\n\"\n",
    "        \"Pump made noises - not enough to affect performance.\\n\"\n",
    "        \"Pump shaft has a slight deflection.\\n\"\n",
    "        \"Prfr chann calib.\\n\"\n",
    ")"
   ]
  },
  {
   "cell_type": "markdown",
   "id": "e6cc953f",
   "metadata": {},
   "source": [
    "### First do text preprocessing"
   ]
  },
  {
   "cell_type": "code",
   "execution_count": null,
   "id": "71f57b0b",
   "metadata": {},
   "outputs": [],
   "source": [
    "preprocessorList = ['hyphenated_words',\n",
    "                    'whitespace',\n",
    "                    'numerize']\n",
    "preprocessorOptions = {}\n",
    "preprocess = Preprocessing(preprocessorList, preprocessorOptions)\n",
    "post = preprocess(text)"
   ]
  },
  {
   "cell_type": "markdown",
   "id": "60c2b8fe",
   "metadata": {},
   "source": [
    "### Autocorrect: Setup"
   ]
  },
  {
   "cell_type": "code",
   "execution_count": null,
   "id": "41e5d0a1",
   "metadata": {},
   "outputs": [],
   "source": [
    "checker = SpellChecker(checker='autocorrect')"
   ]
  },
  {
   "cell_type": "markdown",
   "id": "d10ffd06",
   "metadata": {},
   "source": [
    "### Autocorrect: Find acronyms or unexpected misspelled words"
   ]
  },
  {
   "cell_type": "code",
   "execution_count": null,
   "id": "e3751532",
   "metadata": {},
   "outputs": [],
   "source": [
    "checker.getMisspelledWords(post)"
   ]
  },
  {
   "cell_type": "markdown",
   "id": "6ecf10a5",
   "metadata": {},
   "source": [
    "### Autocorrect: Add any additional words to dictionary"
   ]
  },
  {
   "cell_type": "code",
   "execution_count": null,
   "id": "30b6aa45",
   "metadata": {},
   "outputs": [],
   "source": [
    "words = ['OPS', 'RCP']\n",
    "checker.addWordsToDictionary(words)"
   ]
  },
  {
   "cell_type": "markdown",
   "id": "25739b5e",
   "metadata": {},
   "source": [
    "### Autocorrect: Get automatically corrected text"
   ]
  },
  {
   "cell_type": "code",
   "execution_count": null,
   "id": "090c6b2a",
   "metadata": {},
   "outputs": [],
   "source": [
    "corrected = checker.correct(post)\n",
    "print(corrected)"
   ]
  },
  {
   "cell_type": "markdown",
   "id": "b8851e56-9dda-48e4-9aef-18c8cb24ce8c",
   "metadata": {},
   "source": [
    "## PySpellChecker "
   ]
  },
  {
   "cell_type": "code",
   "execution_count": null,
   "id": "7dcf15bb-d701-46cb-a658-03f9c5618969",
   "metadata": {},
   "outputs": [],
   "source": [
    "checker = SpellChecker(checker='pyspellchecker')"
   ]
  },
  {
   "cell_type": "code",
   "execution_count": null,
   "id": "e6fe5cc5-f58b-438f-a833-3bf43681c564",
   "metadata": {},
   "outputs": [],
   "source": [
    "checker.getMisspelledWords(post)"
   ]
  },
  {
   "cell_type": "code",
   "execution_count": null,
   "id": "d2adc751-fa75-4a05-97b3-5935f6b46a05",
   "metadata": {},
   "outputs": [],
   "source": [
    "words = ['OPS', 'RCP']\n",
    "checker.addWordsToDictionary(words)"
   ]
  },
  {
   "cell_type": "code",
   "execution_count": null,
   "id": "b8e5d504-8a1d-403d-bcb5-eaa8bf492181",
   "metadata": {},
   "outputs": [],
   "source": [
    "corrected = checker.correct(post)\n",
    "print(corrected)"
   ]
  },
  {
   "cell_type": "markdown",
   "id": "01cd2d2c",
   "metadata": {},
   "source": [
    "## ContextualSpellCheck: Setup"
   ]
  },
  {
   "cell_type": "code",
   "execution_count": null,
   "id": "b081ec70",
   "metadata": {},
   "outputs": [],
   "source": [
    "checker = SpellChecker(checker='ContextualSpellCheck')"
   ]
  },
  {
   "cell_type": "markdown",
   "id": "e7dfbe70",
   "metadata": {},
   "source": [
    "### ContextualSpellCheck: Find acronyms or unexpected misspelled words"
   ]
  },
  {
   "cell_type": "code",
   "execution_count": null,
   "id": "760bb58d",
   "metadata": {},
   "outputs": [],
   "source": [
    "checker.getMisspelledWords(post)"
   ]
  },
  {
   "cell_type": "markdown",
   "id": "ffdf68b0",
   "metadata": {},
   "source": [
    "### ContextualSpellCheck: Add any additional words to dictionary"
   ]
  },
  {
   "cell_type": "code",
   "execution_count": null,
   "id": "f96217cb",
   "metadata": {},
   "outputs": [],
   "source": [
    "words = ['RCP', 'OPS', 'consequent', '1A', 'unplugged']\n",
    "checker.addWordsToDictionary(words)"
   ]
  },
  {
   "cell_type": "markdown",
   "id": "dab140bc",
   "metadata": {},
   "source": [
    "### ContextualSpellCheck: Get automatically corrected text"
   ]
  },
  {
   "cell_type": "code",
   "execution_count": null,
   "id": "a0591fb2",
   "metadata": {},
   "outputs": [],
   "source": [
    "corrected = checker.correct(post)\n",
    "print(corrected)"
   ]
  }
 ],
 "metadata": {
  "hide_input": false,
  "kernelspec": {
   "display_name": "dackar_libs",
   "language": "python",
   "name": "python3"
  },
  "language_info": {
   "codemirror_mode": {
    "name": "ipython",
    "version": 3
   },
   "file_extension": ".py",
   "mimetype": "text/x-python",
   "name": "python",
   "nbconvert_exporter": "python",
   "pygments_lexer": "ipython3",
   "version": "3.11.9"
  }
 },
 "nbformat": 4,
 "nbformat_minor": 5
}
